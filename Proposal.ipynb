{
 "cells": [
  {
   "cell_type": "markdown",
   "metadata": {},
   "source": [
    "# Rates of Positive and Negative Words in News Articles of Different Topics"
   ]
  },
  {
   "cell_type": "code",
   "execution_count": 1,
   "metadata": {},
   "outputs": [
    {
     "name": "stderr",
     "output_type": "stream",
     "text": [
      "── \u001b[1mAttaching packages\u001b[22m ─────────────────────────────────────── tidyverse 1.3.0 ──\n",
      "\n",
      "\u001b[32m✔\u001b[39m \u001b[34mggplot2\u001b[39m 3.3.2     \u001b[32m✔\u001b[39m \u001b[34mpurrr  \u001b[39m 0.3.4\n",
      "\u001b[32m✔\u001b[39m \u001b[34mtibble \u001b[39m 3.0.3     \u001b[32m✔\u001b[39m \u001b[34mdplyr  \u001b[39m 1.0.2\n",
      "\u001b[32m✔\u001b[39m \u001b[34mtidyr  \u001b[39m 1.1.2     \u001b[32m✔\u001b[39m \u001b[34mstringr\u001b[39m 1.4.0\n",
      "\u001b[32m✔\u001b[39m \u001b[34mreadr  \u001b[39m 1.3.1     \u001b[32m✔\u001b[39m \u001b[34mforcats\u001b[39m 0.5.0\n",
      "\n",
      "Warning message:\n",
      "“package ‘ggplot2’ was built under R version 4.0.1”\n",
      "Warning message:\n",
      "“package ‘tibble’ was built under R version 4.0.2”\n",
      "Warning message:\n",
      "“package ‘tidyr’ was built under R version 4.0.2”\n",
      "Warning message:\n",
      "“package ‘dplyr’ was built under R version 4.0.2”\n",
      "── \u001b[1mConflicts\u001b[22m ────────────────────────────────────────── tidyverse_conflicts() ──\n",
      "\u001b[31m✖\u001b[39m \u001b[34mdplyr\u001b[39m::\u001b[32mfilter()\u001b[39m masks \u001b[34mstats\u001b[39m::filter()\n",
      "\u001b[31m✖\u001b[39m \u001b[34mdplyr\u001b[39m::\u001b[32mlag()\u001b[39m    masks \u001b[34mstats\u001b[39m::lag()\n",
      "\n",
      "Warning message:\n",
      "“package ‘tidymodels’ was built under R version 4.0.2”\n",
      "── \u001b[1mAttaching packages\u001b[22m ────────────────────────────────────── tidymodels 0.1.1 ──\n",
      "\n",
      "\u001b[32m✔\u001b[39m \u001b[34mbroom    \u001b[39m 0.7.0      \u001b[32m✔\u001b[39m \u001b[34mrecipes  \u001b[39m 0.1.13\n",
      "\u001b[32m✔\u001b[39m \u001b[34mdials    \u001b[39m 0.0.9      \u001b[32m✔\u001b[39m \u001b[34mrsample  \u001b[39m 0.0.7 \n",
      "\u001b[32m✔\u001b[39m \u001b[34minfer    \u001b[39m 0.5.4      \u001b[32m✔\u001b[39m \u001b[34mtune     \u001b[39m 0.1.1 \n",
      "\u001b[32m✔\u001b[39m \u001b[34mmodeldata\u001b[39m 0.0.2      \u001b[32m✔\u001b[39m \u001b[34mworkflows\u001b[39m 0.2.0 \n",
      "\u001b[32m✔\u001b[39m \u001b[34mparsnip  \u001b[39m 0.1.3      \u001b[32m✔\u001b[39m \u001b[34myardstick\u001b[39m 0.0.7 \n",
      "\n",
      "Warning message:\n",
      "“package ‘broom’ was built under R version 4.0.2”\n",
      "Warning message:\n",
      "“package ‘dials’ was built under R version 4.0.2”\n",
      "Warning message:\n",
      "“package ‘infer’ was built under R version 4.0.3”\n",
      "Warning message:\n",
      "“package ‘modeldata’ was built under R version 4.0.1”\n",
      "Warning message:\n",
      "“package ‘parsnip’ was built under R version 4.0.2”\n",
      "Warning message:\n",
      "“package ‘recipes’ was built under R version 4.0.1”\n",
      "Warning message:\n",
      "“package ‘tune’ was built under R version 4.0.2”\n",
      "Warning message:\n",
      "“package ‘workflows’ was built under R version 4.0.2”\n",
      "Warning message:\n",
      "“package ‘yardstick’ was built under R version 4.0.2”\n",
      "── \u001b[1mConflicts\u001b[22m ───────────────────────────────────────── tidymodels_conflicts() ──\n",
      "\u001b[31m✖\u001b[39m \u001b[34mscales\u001b[39m::\u001b[32mdiscard()\u001b[39m masks \u001b[34mpurrr\u001b[39m::discard()\n",
      "\u001b[31m✖\u001b[39m \u001b[34mdplyr\u001b[39m::\u001b[32mfilter()\u001b[39m   masks \u001b[34mstats\u001b[39m::filter()\n",
      "\u001b[31m✖\u001b[39m \u001b[34mrecipes\u001b[39m::\u001b[32mfixed()\u001b[39m  masks \u001b[34mstringr\u001b[39m::fixed()\n",
      "\u001b[31m✖\u001b[39m \u001b[34mdplyr\u001b[39m::\u001b[32mlag()\u001b[39m      masks \u001b[34mstats\u001b[39m::lag()\n",
      "\u001b[31m✖\u001b[39m \u001b[34myardstick\u001b[39m::\u001b[32mspec()\u001b[39m masks \u001b[34mreadr\u001b[39m::spec()\n",
      "\u001b[31m✖\u001b[39m \u001b[34mrecipes\u001b[39m::\u001b[32mstep()\u001b[39m   masks \u001b[34mstats\u001b[39m::step()\n",
      "\n"
     ]
    }
   ],
   "source": [
    "# Load packages\n",
    "library(tidyverse)\n",
    "library(dplyr)\n",
    "library(repr)\n",
    "library(tidymodels)\n",
    "options(repr.matrix.max.rows = 6)"
   ]
  },
  {
   "cell_type": "markdown",
   "metadata": {},
   "source": [
    "## Introduction"
   ]
  },
  {
   "cell_type": "markdown",
   "metadata": {},
   "source": [
    "News articles are often polarizing depending on their topic of discussion making this an interesting field for analysis. Therefore, we will be using the online news popularity data set for our analysis. Each row in this dataset corresponds to one article on the Mashable website with various variables given such as the rate of positive words in the article. We aim to classify each article, published by the data source Mashable, based on which channel they would belong to - social media, lifestyle, business, or entertainment. Our predictors for this classification would be the rate of positive and negative words used in the article. Data channel type refers to the topic/theme of the article, and the global rates of positive/negative words are proportions. The question to be answered is how articles of differing topics differ in the rates of positive and negative words by using our classifier to predict article categories for future articles based on their rates of positive and negative words. "
   ]
  },
  {
   "cell_type": "markdown",
   "metadata": {},
   "source": [
    "## Preliminary Exploratory Data Analysis"
   ]
  },
  {
   "cell_type": "code",
   "execution_count": 2,
   "metadata": {},
   "outputs": [
    {
     "name": "stderr",
     "output_type": "stream",
     "text": [
      "Parsed with column specification:\n",
      "cols(\n",
      "  .default = col_double(),\n",
      "  url = \u001b[31mcol_character()\u001b[39m\n",
      ")\n",
      "\n",
      "See spec(...) for full column specifications.\n",
      "\n"
     ]
    },
    {
     "data": {
      "text/html": [
       "<table>\n",
       "<caption>A spec_tbl_df: 39644 × 61</caption>\n",
       "<thead>\n",
       "\t<tr><th scope=col>url</th><th scope=col>timedelta</th><th scope=col>n_tokens_title</th><th scope=col>n_tokens_content</th><th scope=col>n_unique_tokens</th><th scope=col>n_non_stop_words</th><th scope=col>n_non_stop_unique_tokens</th><th scope=col>num_hrefs</th><th scope=col>num_self_hrefs</th><th scope=col>num_imgs</th><th scope=col>⋯</th><th scope=col>min_positive_polarity</th><th scope=col>max_positive_polarity</th><th scope=col>avg_negative_polarity</th><th scope=col>min_negative_polarity</th><th scope=col>max_negative_polarity</th><th scope=col>title_subjectivity</th><th scope=col>title_sentiment_polarity</th><th scope=col>abs_title_subjectivity</th><th scope=col>abs_title_sentiment_polarity</th><th scope=col>shares</th></tr>\n",
       "\t<tr><th scope=col>&lt;chr&gt;</th><th scope=col>&lt;dbl&gt;</th><th scope=col>&lt;dbl&gt;</th><th scope=col>&lt;dbl&gt;</th><th scope=col>&lt;dbl&gt;</th><th scope=col>&lt;dbl&gt;</th><th scope=col>&lt;dbl&gt;</th><th scope=col>&lt;dbl&gt;</th><th scope=col>&lt;dbl&gt;</th><th scope=col>&lt;dbl&gt;</th><th scope=col>⋯</th><th scope=col>&lt;dbl&gt;</th><th scope=col>&lt;dbl&gt;</th><th scope=col>&lt;dbl&gt;</th><th scope=col>&lt;dbl&gt;</th><th scope=col>&lt;dbl&gt;</th><th scope=col>&lt;dbl&gt;</th><th scope=col>&lt;dbl&gt;</th><th scope=col>&lt;dbl&gt;</th><th scope=col>&lt;dbl&gt;</th><th scope=col>&lt;dbl&gt;</th></tr>\n",
       "</thead>\n",
       "<tbody>\n",
       "\t<tr><td>http://mashable.com/2013/01/07/amazon-instant-video-browser/  </td><td>731</td><td>12</td><td>219</td><td>0.6635945</td><td>1</td><td>0.8153846</td><td>4</td><td>2</td><td>1</td><td>⋯</td><td>0.10000000</td><td>0.7</td><td>-0.3500000</td><td>-0.600</td><td>-0.2000000</td><td>0.5</td><td>-0.1875</td><td>0.0</td><td>0.1875</td><td> 593</td></tr>\n",
       "\t<tr><td>http://mashable.com/2013/01/07/ap-samsung-sponsored-tweets/   </td><td>731</td><td> 9</td><td>255</td><td>0.6047431</td><td>1</td><td>0.7919463</td><td>3</td><td>1</td><td>1</td><td>⋯</td><td>0.03333333</td><td>0.7</td><td>-0.1187500</td><td>-0.125</td><td>-0.1000000</td><td>0.0</td><td> 0.0000</td><td>0.5</td><td>0.0000</td><td> 711</td></tr>\n",
       "\t<tr><td>http://mashable.com/2013/01/07/apple-40-billion-app-downloads/</td><td>731</td><td> 9</td><td>211</td><td>0.5751295</td><td>1</td><td>0.6638655</td><td>3</td><td>1</td><td>1</td><td>⋯</td><td>0.10000000</td><td>1.0</td><td>-0.4666667</td><td>-0.800</td><td>-0.1333333</td><td>0.0</td><td> 0.0000</td><td>0.5</td><td>0.0000</td><td>1500</td></tr>\n",
       "\t<tr><td>⋮</td><td>⋮</td><td>⋮</td><td>⋮</td><td>⋮</td><td>⋮</td><td>⋮</td><td>⋮</td><td>⋮</td><td>⋮</td><td>⋱</td><td>⋮</td><td>⋮</td><td>⋮</td><td>⋮</td><td>⋮</td><td>⋮</td><td>⋮</td><td>⋮</td><td>⋮</td><td>⋮</td></tr>\n",
       "\t<tr><td>http://mashable.com/2014/12/27/son-pays-off-mortgage/</td><td>8</td><td>10</td><td>442</td><td>0.5163551</td><td>1</td><td>0.6441281</td><td>24</td><td>1</td><td>12</td><td>⋯</td><td>0.1363636</td><td>0.5</td><td>-0.3564394</td><td>-0.8</td><td>-0.1666667</td><td>0.4545455</td><td>0.1363636</td><td>0.04545455</td><td>0.1363636</td><td>1900</td></tr>\n",
       "\t<tr><td>http://mashable.com/2014/12/27/ukraine-blasts/       </td><td>8</td><td> 6</td><td>682</td><td>0.5394933</td><td>1</td><td>0.6926605</td><td>10</td><td>1</td><td> 1</td><td>⋯</td><td>0.0625000</td><td>0.5</td><td>-0.2052455</td><td>-0.5</td><td>-0.0125000</td><td>0.0000000</td><td>0.0000000</td><td>0.50000000</td><td>0.0000000</td><td>1100</td></tr>\n",
       "\t<tr><td>http://mashable.com/2014/12/27/youtube-channels-2015/</td><td>8</td><td>10</td><td>157</td><td>0.7019868</td><td>1</td><td>0.8461538</td><td> 1</td><td>1</td><td> 0</td><td>⋯</td><td>0.1000000</td><td>0.5</td><td>-0.2000000</td><td>-0.2</td><td>-0.2000000</td><td>0.3333333</td><td>0.2500000</td><td>0.16666667</td><td>0.2500000</td><td>1300</td></tr>\n",
       "</tbody>\n",
       "</table>\n"
      ],
      "text/latex": [
       "A spec\\_tbl\\_df: 39644 × 61\n",
       "\\begin{tabular}{lllllllllllllllllllll}\n",
       " url & timedelta & n\\_tokens\\_title & n\\_tokens\\_content & n\\_unique\\_tokens & n\\_non\\_stop\\_words & n\\_non\\_stop\\_unique\\_tokens & num\\_hrefs & num\\_self\\_hrefs & num\\_imgs & ⋯ & min\\_positive\\_polarity & max\\_positive\\_polarity & avg\\_negative\\_polarity & min\\_negative\\_polarity & max\\_negative\\_polarity & title\\_subjectivity & title\\_sentiment\\_polarity & abs\\_title\\_subjectivity & abs\\_title\\_sentiment\\_polarity & shares\\\\\n",
       " <chr> & <dbl> & <dbl> & <dbl> & <dbl> & <dbl> & <dbl> & <dbl> & <dbl> & <dbl> & ⋯ & <dbl> & <dbl> & <dbl> & <dbl> & <dbl> & <dbl> & <dbl> & <dbl> & <dbl> & <dbl>\\\\\n",
       "\\hline\n",
       "\t http://mashable.com/2013/01/07/amazon-instant-video-browser/   & 731 & 12 & 219 & 0.6635945 & 1 & 0.8153846 & 4 & 2 & 1 & ⋯ & 0.10000000 & 0.7 & -0.3500000 & -0.600 & -0.2000000 & 0.5 & -0.1875 & 0.0 & 0.1875 &  593\\\\\n",
       "\t http://mashable.com/2013/01/07/ap-samsung-sponsored-tweets/    & 731 &  9 & 255 & 0.6047431 & 1 & 0.7919463 & 3 & 1 & 1 & ⋯ & 0.03333333 & 0.7 & -0.1187500 & -0.125 & -0.1000000 & 0.0 &  0.0000 & 0.5 & 0.0000 &  711\\\\\n",
       "\t http://mashable.com/2013/01/07/apple-40-billion-app-downloads/ & 731 &  9 & 211 & 0.5751295 & 1 & 0.6638655 & 3 & 1 & 1 & ⋯ & 0.10000000 & 1.0 & -0.4666667 & -0.800 & -0.1333333 & 0.0 &  0.0000 & 0.5 & 0.0000 & 1500\\\\\n",
       "\t ⋮ & ⋮ & ⋮ & ⋮ & ⋮ & ⋮ & ⋮ & ⋮ & ⋮ & ⋮ & ⋱ & ⋮ & ⋮ & ⋮ & ⋮ & ⋮ & ⋮ & ⋮ & ⋮ & ⋮ & ⋮\\\\\n",
       "\t http://mashable.com/2014/12/27/son-pays-off-mortgage/ & 8 & 10 & 442 & 0.5163551 & 1 & 0.6441281 & 24 & 1 & 12 & ⋯ & 0.1363636 & 0.5 & -0.3564394 & -0.8 & -0.1666667 & 0.4545455 & 0.1363636 & 0.04545455 & 0.1363636 & 1900\\\\\n",
       "\t http://mashable.com/2014/12/27/ukraine-blasts/        & 8 &  6 & 682 & 0.5394933 & 1 & 0.6926605 & 10 & 1 &  1 & ⋯ & 0.0625000 & 0.5 & -0.2052455 & -0.5 & -0.0125000 & 0.0000000 & 0.0000000 & 0.50000000 & 0.0000000 & 1100\\\\\n",
       "\t http://mashable.com/2014/12/27/youtube-channels-2015/ & 8 & 10 & 157 & 0.7019868 & 1 & 0.8461538 &  1 & 1 &  0 & ⋯ & 0.1000000 & 0.5 & -0.2000000 & -0.2 & -0.2000000 & 0.3333333 & 0.2500000 & 0.16666667 & 0.2500000 & 1300\\\\\n",
       "\\end{tabular}\n"
      ],
      "text/markdown": [
       "\n",
       "A spec_tbl_df: 39644 × 61\n",
       "\n",
       "| url &lt;chr&gt; | timedelta &lt;dbl&gt; | n_tokens_title &lt;dbl&gt; | n_tokens_content &lt;dbl&gt; | n_unique_tokens &lt;dbl&gt; | n_non_stop_words &lt;dbl&gt; | n_non_stop_unique_tokens &lt;dbl&gt; | num_hrefs &lt;dbl&gt; | num_self_hrefs &lt;dbl&gt; | num_imgs &lt;dbl&gt; | ⋯ ⋯ | min_positive_polarity &lt;dbl&gt; | max_positive_polarity &lt;dbl&gt; | avg_negative_polarity &lt;dbl&gt; | min_negative_polarity &lt;dbl&gt; | max_negative_polarity &lt;dbl&gt; | title_subjectivity &lt;dbl&gt; | title_sentiment_polarity &lt;dbl&gt; | abs_title_subjectivity &lt;dbl&gt; | abs_title_sentiment_polarity &lt;dbl&gt; | shares &lt;dbl&gt; |\n",
       "|---|---|---|---|---|---|---|---|---|---|---|---|---|---|---|---|---|---|---|---|---|\n",
       "| http://mashable.com/2013/01/07/amazon-instant-video-browser/   | 731 | 12 | 219 | 0.6635945 | 1 | 0.8153846 | 4 | 2 | 1 | ⋯ | 0.10000000 | 0.7 | -0.3500000 | -0.600 | -0.2000000 | 0.5 | -0.1875 | 0.0 | 0.1875 |  593 |\n",
       "| http://mashable.com/2013/01/07/ap-samsung-sponsored-tweets/    | 731 |  9 | 255 | 0.6047431 | 1 | 0.7919463 | 3 | 1 | 1 | ⋯ | 0.03333333 | 0.7 | -0.1187500 | -0.125 | -0.1000000 | 0.0 |  0.0000 | 0.5 | 0.0000 |  711 |\n",
       "| http://mashable.com/2013/01/07/apple-40-billion-app-downloads/ | 731 |  9 | 211 | 0.5751295 | 1 | 0.6638655 | 3 | 1 | 1 | ⋯ | 0.10000000 | 1.0 | -0.4666667 | -0.800 | -0.1333333 | 0.0 |  0.0000 | 0.5 | 0.0000 | 1500 |\n",
       "| ⋮ | ⋮ | ⋮ | ⋮ | ⋮ | ⋮ | ⋮ | ⋮ | ⋮ | ⋮ | ⋱ | ⋮ | ⋮ | ⋮ | ⋮ | ⋮ | ⋮ | ⋮ | ⋮ | ⋮ | ⋮ |\n",
       "| http://mashable.com/2014/12/27/son-pays-off-mortgage/ | 8 | 10 | 442 | 0.5163551 | 1 | 0.6441281 | 24 | 1 | 12 | ⋯ | 0.1363636 | 0.5 | -0.3564394 | -0.8 | -0.1666667 | 0.4545455 | 0.1363636 | 0.04545455 | 0.1363636 | 1900 |\n",
       "| http://mashable.com/2014/12/27/ukraine-blasts/        | 8 |  6 | 682 | 0.5394933 | 1 | 0.6926605 | 10 | 1 |  1 | ⋯ | 0.0625000 | 0.5 | -0.2052455 | -0.5 | -0.0125000 | 0.0000000 | 0.0000000 | 0.50000000 | 0.0000000 | 1100 |\n",
       "| http://mashable.com/2014/12/27/youtube-channels-2015/ | 8 | 10 | 157 | 0.7019868 | 1 | 0.8461538 |  1 | 1 |  0 | ⋯ | 0.1000000 | 0.5 | -0.2000000 | -0.2 | -0.2000000 | 0.3333333 | 0.2500000 | 0.16666667 | 0.2500000 | 1300 |\n",
       "\n"
      ],
      "text/plain": [
       "      url                                                            timedelta\n",
       "1     http://mashable.com/2013/01/07/amazon-instant-video-browser/   731      \n",
       "2     http://mashable.com/2013/01/07/ap-samsung-sponsored-tweets/    731      \n",
       "3     http://mashable.com/2013/01/07/apple-40-billion-app-downloads/ 731      \n",
       "⋮     ⋮                                                              ⋮        \n",
       "39642 http://mashable.com/2014/12/27/son-pays-off-mortgage/          8        \n",
       "39643 http://mashable.com/2014/12/27/ukraine-blasts/                 8        \n",
       "39644 http://mashable.com/2014/12/27/youtube-channels-2015/          8        \n",
       "      n_tokens_title n_tokens_content n_unique_tokens n_non_stop_words\n",
       "1     12             219              0.6635945       1               \n",
       "2      9             255              0.6047431       1               \n",
       "3      9             211              0.5751295       1               \n",
       "⋮     ⋮              ⋮                ⋮               ⋮               \n",
       "39642 10             442              0.5163551       1               \n",
       "39643  6             682              0.5394933       1               \n",
       "39644 10             157              0.7019868       1               \n",
       "      n_non_stop_unique_tokens num_hrefs num_self_hrefs num_imgs ⋯\n",
       "1     0.8153846                4         2              1        ⋯\n",
       "2     0.7919463                3         1              1        ⋯\n",
       "3     0.6638655                3         1              1        ⋯\n",
       "⋮     ⋮                        ⋮         ⋮              ⋮        ⋱\n",
       "39642 0.6441281                24        1              12       ⋯\n",
       "39643 0.6926605                10        1               1       ⋯\n",
       "39644 0.8461538                 1        1               0       ⋯\n",
       "      min_positive_polarity max_positive_polarity avg_negative_polarity\n",
       "1     0.10000000            0.7                   -0.3500000           \n",
       "2     0.03333333            0.7                   -0.1187500           \n",
       "3     0.10000000            1.0                   -0.4666667           \n",
       "⋮     ⋮                     ⋮                     ⋮                    \n",
       "39642 0.1363636             0.5                   -0.3564394           \n",
       "39643 0.0625000             0.5                   -0.2052455           \n",
       "39644 0.1000000             0.5                   -0.2000000           \n",
       "      min_negative_polarity max_negative_polarity title_subjectivity\n",
       "1     -0.600                -0.2000000            0.5               \n",
       "2     -0.125                -0.1000000            0.0               \n",
       "3     -0.800                -0.1333333            0.0               \n",
       "⋮     ⋮                     ⋮                     ⋮                 \n",
       "39642 -0.8                  -0.1666667            0.4545455         \n",
       "39643 -0.5                  -0.0125000            0.0000000         \n",
       "39644 -0.2                  -0.2000000            0.3333333         \n",
       "      title_sentiment_polarity abs_title_subjectivity\n",
       "1     -0.1875                  0.0                   \n",
       "2      0.0000                  0.5                   \n",
       "3      0.0000                  0.5                   \n",
       "⋮     ⋮                        ⋮                     \n",
       "39642 0.1363636                0.04545455            \n",
       "39643 0.0000000                0.50000000            \n",
       "39644 0.2500000                0.16666667            \n",
       "      abs_title_sentiment_polarity shares\n",
       "1     0.1875                        593  \n",
       "2     0.0000                        711  \n",
       "3     0.0000                       1500  \n",
       "⋮     ⋮                            ⋮     \n",
       "39642 0.1363636                    1900  \n",
       "39643 0.0000000                    1100  \n",
       "39644 0.2500000                    1300  "
      ]
     },
     "metadata": {},
     "output_type": "display_data"
    }
   ],
   "source": [
    "# online URL for data\n",
    "url <- 'https://archive.ics.uci.edu/ml/machine-learning-databases/00332/OnlineNewsPopularity.zip'\n",
    "\n",
    "# creating temporary file to store zip file\n",
    "temp <- tempfile()\n",
    "download.file(url, temp)\n",
    "\n",
    "# unzipping and reading in the csv file of interest\n",
    "news_data <- read_csv(unz(temp, 'OnlineNewsPopularity/OnlineNewsPopularity.csv'))\n",
    "\n",
    "# saving data table to the data file created\n",
    "write_csv(news_data, 'data/news_data.csv', col_names=TRUE)\n",
    "\n",
    "# unlinking files from temporary file created earlier\n",
    "unlink(temp) \n",
    "\n",
    "news_data\n",
    "\n",
    "# DESCRIPTION\n",
    "\n",
    "# The data is relatively clean with each row containing a single observation, each column with one variable, and each cell containing only one observation. \n",
    "# The only problems are with the data channel type columns and the weekday columns. \n",
    "# These are spread out over multiple columns when they are a single variable (data channel type and weekday posted)."
   ]
  },
  {
   "cell_type": "code",
   "execution_count": 3,
   "metadata": {},
   "outputs": [
    {
     "data": {
      "text/html": [
       "<table>\n",
       "<caption>A tibble: 33510 × 49</caption>\n",
       "<thead>\n",
       "\t<tr><th scope=col>url</th><th scope=col>timedelta</th><th scope=col>n_tokens_title</th><th scope=col>n_tokens_content</th><th scope=col>n_unique_tokens</th><th scope=col>n_non_stop_words</th><th scope=col>n_non_stop_unique_tokens</th><th scope=col>num_hrefs</th><th scope=col>num_self_hrefs</th><th scope=col>num_imgs</th><th scope=col>⋯</th><th scope=col>avg_negative_polarity</th><th scope=col>min_negative_polarity</th><th scope=col>max_negative_polarity</th><th scope=col>title_subjectivity</th><th scope=col>title_sentiment_polarity</th><th scope=col>abs_title_subjectivity</th><th scope=col>abs_title_sentiment_polarity</th><th scope=col>shares</th><th scope=col>data_channel_type</th><th scope=col>weekday_posted</th></tr>\n",
       "\t<tr><th scope=col>&lt;chr&gt;</th><th scope=col>&lt;dbl&gt;</th><th scope=col>&lt;dbl&gt;</th><th scope=col>&lt;dbl&gt;</th><th scope=col>&lt;dbl&gt;</th><th scope=col>&lt;dbl&gt;</th><th scope=col>&lt;dbl&gt;</th><th scope=col>&lt;dbl&gt;</th><th scope=col>&lt;dbl&gt;</th><th scope=col>&lt;dbl&gt;</th><th scope=col>⋯</th><th scope=col>&lt;dbl&gt;</th><th scope=col>&lt;dbl&gt;</th><th scope=col>&lt;dbl&gt;</th><th scope=col>&lt;dbl&gt;</th><th scope=col>&lt;dbl&gt;</th><th scope=col>&lt;dbl&gt;</th><th scope=col>&lt;dbl&gt;</th><th scope=col>&lt;dbl&gt;</th><th scope=col>&lt;fct&gt;</th><th scope=col>&lt;chr&gt;</th></tr>\n",
       "</thead>\n",
       "<tbody>\n",
       "\t<tr><td>http://mashable.com/2013/01/07/amazon-instant-video-browser/  </td><td>731</td><td>12</td><td>219</td><td>0.6635945</td><td>1</td><td>0.8153846</td><td>4</td><td>2</td><td>1</td><td>⋯</td><td>-0.3500000</td><td>-0.600</td><td>-0.2000000</td><td>0.5</td><td>-0.1875</td><td>0.0</td><td>0.1875</td><td> 593</td><td>data_channel_is_entertainment</td><td>weekday_is_monday</td></tr>\n",
       "\t<tr><td>http://mashable.com/2013/01/07/ap-samsung-sponsored-tweets/   </td><td>731</td><td> 9</td><td>255</td><td>0.6047431</td><td>1</td><td>0.7919463</td><td>3</td><td>1</td><td>1</td><td>⋯</td><td>-0.1187500</td><td>-0.125</td><td>-0.1000000</td><td>0.0</td><td> 0.0000</td><td>0.5</td><td>0.0000</td><td> 711</td><td>data_channel_is_bus          </td><td>weekday_is_monday</td></tr>\n",
       "\t<tr><td>http://mashable.com/2013/01/07/apple-40-billion-app-downloads/</td><td>731</td><td> 9</td><td>211</td><td>0.5751295</td><td>1</td><td>0.6638655</td><td>3</td><td>1</td><td>1</td><td>⋯</td><td>-0.4666667</td><td>-0.800</td><td>-0.1333333</td><td>0.0</td><td> 0.0000</td><td>0.5</td><td>0.0000</td><td>1500</td><td>data_channel_is_bus          </td><td>weekday_is_monday</td></tr>\n",
       "\t<tr><td>⋮</td><td>⋮</td><td>⋮</td><td>⋮</td><td>⋮</td><td>⋮</td><td>⋮</td><td>⋮</td><td>⋮</td><td>⋮</td><td>⋱</td><td>⋮</td><td>⋮</td><td>⋮</td><td>⋮</td><td>⋮</td><td>⋮</td><td>⋮</td><td>⋮</td><td>⋮</td><td>⋮</td></tr>\n",
       "\t<tr><td>http://mashable.com/2014/12/27/seth-rogen-james-franco-will-live-tweet-the-interview/</td><td>8</td><td>12</td><td>328</td><td>0.6962963</td><td>1</td><td>0.8850575</td><td> 9</td><td>7</td><td>3</td><td>⋯</td><td>-0.2111111</td><td>-0.4</td><td>-0.1000</td><td>0.3000000</td><td>1.00</td><td>0.2000000</td><td>1.00</td><td>1900</td><td>data_channel_is_socmed       </td><td>weekday_is_wednesday</td></tr>\n",
       "\t<tr><td>http://mashable.com/2014/12/27/ukraine-blasts/                                       </td><td>8</td><td> 6</td><td>682</td><td>0.5394933</td><td>1</td><td>0.6926605</td><td>10</td><td>1</td><td>1</td><td>⋯</td><td>-0.2052455</td><td>-0.5</td><td>-0.0125</td><td>0.0000000</td><td>0.00</td><td>0.5000000</td><td>0.00</td><td>1100</td><td>data_channel_is_world        </td><td>weekday_is_wednesday</td></tr>\n",
       "\t<tr><td>http://mashable.com/2014/12/27/youtube-channels-2015/                                </td><td>8</td><td>10</td><td>157</td><td>0.7019868</td><td>1</td><td>0.8461538</td><td> 1</td><td>1</td><td>0</td><td>⋯</td><td>-0.2000000</td><td>-0.2</td><td>-0.2000</td><td>0.3333333</td><td>0.25</td><td>0.1666667</td><td>0.25</td><td>1300</td><td>data_channel_is_entertainment</td><td>weekday_is_wednesday</td></tr>\n",
       "</tbody>\n",
       "</table>\n"
      ],
      "text/latex": [
       "A tibble: 33510 × 49\n",
       "\\begin{tabular}{lllllllllllllllllllll}\n",
       " url & timedelta & n\\_tokens\\_title & n\\_tokens\\_content & n\\_unique\\_tokens & n\\_non\\_stop\\_words & n\\_non\\_stop\\_unique\\_tokens & num\\_hrefs & num\\_self\\_hrefs & num\\_imgs & ⋯ & avg\\_negative\\_polarity & min\\_negative\\_polarity & max\\_negative\\_polarity & title\\_subjectivity & title\\_sentiment\\_polarity & abs\\_title\\_subjectivity & abs\\_title\\_sentiment\\_polarity & shares & data\\_channel\\_type & weekday\\_posted\\\\\n",
       " <chr> & <dbl> & <dbl> & <dbl> & <dbl> & <dbl> & <dbl> & <dbl> & <dbl> & <dbl> & ⋯ & <dbl> & <dbl> & <dbl> & <dbl> & <dbl> & <dbl> & <dbl> & <dbl> & <fct> & <chr>\\\\\n",
       "\\hline\n",
       "\t http://mashable.com/2013/01/07/amazon-instant-video-browser/   & 731 & 12 & 219 & 0.6635945 & 1 & 0.8153846 & 4 & 2 & 1 & ⋯ & -0.3500000 & -0.600 & -0.2000000 & 0.5 & -0.1875 & 0.0 & 0.1875 &  593 & data\\_channel\\_is\\_entertainment & weekday\\_is\\_monday\\\\\n",
       "\t http://mashable.com/2013/01/07/ap-samsung-sponsored-tweets/    & 731 &  9 & 255 & 0.6047431 & 1 & 0.7919463 & 3 & 1 & 1 & ⋯ & -0.1187500 & -0.125 & -0.1000000 & 0.0 &  0.0000 & 0.5 & 0.0000 &  711 & data\\_channel\\_is\\_bus           & weekday\\_is\\_monday\\\\\n",
       "\t http://mashable.com/2013/01/07/apple-40-billion-app-downloads/ & 731 &  9 & 211 & 0.5751295 & 1 & 0.6638655 & 3 & 1 & 1 & ⋯ & -0.4666667 & -0.800 & -0.1333333 & 0.0 &  0.0000 & 0.5 & 0.0000 & 1500 & data\\_channel\\_is\\_bus           & weekday\\_is\\_monday\\\\\n",
       "\t ⋮ & ⋮ & ⋮ & ⋮ & ⋮ & ⋮ & ⋮ & ⋮ & ⋮ & ⋮ & ⋱ & ⋮ & ⋮ & ⋮ & ⋮ & ⋮ & ⋮ & ⋮ & ⋮ & ⋮ & ⋮\\\\\n",
       "\t http://mashable.com/2014/12/27/seth-rogen-james-franco-will-live-tweet-the-interview/ & 8 & 12 & 328 & 0.6962963 & 1 & 0.8850575 &  9 & 7 & 3 & ⋯ & -0.2111111 & -0.4 & -0.1000 & 0.3000000 & 1.00 & 0.2000000 & 1.00 & 1900 & data\\_channel\\_is\\_socmed        & weekday\\_is\\_wednesday\\\\\n",
       "\t http://mashable.com/2014/12/27/ukraine-blasts/                                        & 8 &  6 & 682 & 0.5394933 & 1 & 0.6926605 & 10 & 1 & 1 & ⋯ & -0.2052455 & -0.5 & -0.0125 & 0.0000000 & 0.00 & 0.5000000 & 0.00 & 1100 & data\\_channel\\_is\\_world         & weekday\\_is\\_wednesday\\\\\n",
       "\t http://mashable.com/2014/12/27/youtube-channels-2015/                                 & 8 & 10 & 157 & 0.7019868 & 1 & 0.8461538 &  1 & 1 & 0 & ⋯ & -0.2000000 & -0.2 & -0.2000 & 0.3333333 & 0.25 & 0.1666667 & 0.25 & 1300 & data\\_channel\\_is\\_entertainment & weekday\\_is\\_wednesday\\\\\n",
       "\\end{tabular}\n"
      ],
      "text/markdown": [
       "\n",
       "A tibble: 33510 × 49\n",
       "\n",
       "| url &lt;chr&gt; | timedelta &lt;dbl&gt; | n_tokens_title &lt;dbl&gt; | n_tokens_content &lt;dbl&gt; | n_unique_tokens &lt;dbl&gt; | n_non_stop_words &lt;dbl&gt; | n_non_stop_unique_tokens &lt;dbl&gt; | num_hrefs &lt;dbl&gt; | num_self_hrefs &lt;dbl&gt; | num_imgs &lt;dbl&gt; | ⋯ ⋯ | avg_negative_polarity &lt;dbl&gt; | min_negative_polarity &lt;dbl&gt; | max_negative_polarity &lt;dbl&gt; | title_subjectivity &lt;dbl&gt; | title_sentiment_polarity &lt;dbl&gt; | abs_title_subjectivity &lt;dbl&gt; | abs_title_sentiment_polarity &lt;dbl&gt; | shares &lt;dbl&gt; | data_channel_type &lt;fct&gt; | weekday_posted &lt;chr&gt; |\n",
       "|---|---|---|---|---|---|---|---|---|---|---|---|---|---|---|---|---|---|---|---|---|\n",
       "| http://mashable.com/2013/01/07/amazon-instant-video-browser/   | 731 | 12 | 219 | 0.6635945 | 1 | 0.8153846 | 4 | 2 | 1 | ⋯ | -0.3500000 | -0.600 | -0.2000000 | 0.5 | -0.1875 | 0.0 | 0.1875 |  593 | data_channel_is_entertainment | weekday_is_monday |\n",
       "| http://mashable.com/2013/01/07/ap-samsung-sponsored-tweets/    | 731 |  9 | 255 | 0.6047431 | 1 | 0.7919463 | 3 | 1 | 1 | ⋯ | -0.1187500 | -0.125 | -0.1000000 | 0.0 |  0.0000 | 0.5 | 0.0000 |  711 | data_channel_is_bus           | weekday_is_monday |\n",
       "| http://mashable.com/2013/01/07/apple-40-billion-app-downloads/ | 731 |  9 | 211 | 0.5751295 | 1 | 0.6638655 | 3 | 1 | 1 | ⋯ | -0.4666667 | -0.800 | -0.1333333 | 0.0 |  0.0000 | 0.5 | 0.0000 | 1500 | data_channel_is_bus           | weekday_is_monday |\n",
       "| ⋮ | ⋮ | ⋮ | ⋮ | ⋮ | ⋮ | ⋮ | ⋮ | ⋮ | ⋮ | ⋱ | ⋮ | ⋮ | ⋮ | ⋮ | ⋮ | ⋮ | ⋮ | ⋮ | ⋮ | ⋮ |\n",
       "| http://mashable.com/2014/12/27/seth-rogen-james-franco-will-live-tweet-the-interview/ | 8 | 12 | 328 | 0.6962963 | 1 | 0.8850575 |  9 | 7 | 3 | ⋯ | -0.2111111 | -0.4 | -0.1000 | 0.3000000 | 1.00 | 0.2000000 | 1.00 | 1900 | data_channel_is_socmed        | weekday_is_wednesday |\n",
       "| http://mashable.com/2014/12/27/ukraine-blasts/                                        | 8 |  6 | 682 | 0.5394933 | 1 | 0.6926605 | 10 | 1 | 1 | ⋯ | -0.2052455 | -0.5 | -0.0125 | 0.0000000 | 0.00 | 0.5000000 | 0.00 | 1100 | data_channel_is_world         | weekday_is_wednesday |\n",
       "| http://mashable.com/2014/12/27/youtube-channels-2015/                                 | 8 | 10 | 157 | 0.7019868 | 1 | 0.8461538 |  1 | 1 | 0 | ⋯ | -0.2000000 | -0.2 | -0.2000 | 0.3333333 | 0.25 | 0.1666667 | 0.25 | 1300 | data_channel_is_entertainment | weekday_is_wednesday |\n",
       "\n"
      ],
      "text/plain": [
       "      url                                                                                  \n",
       "1     http://mashable.com/2013/01/07/amazon-instant-video-browser/                         \n",
       "2     http://mashable.com/2013/01/07/ap-samsung-sponsored-tweets/                          \n",
       "3     http://mashable.com/2013/01/07/apple-40-billion-app-downloads/                       \n",
       "⋮     ⋮                                                                                    \n",
       "33508 http://mashable.com/2014/12/27/seth-rogen-james-franco-will-live-tweet-the-interview/\n",
       "33509 http://mashable.com/2014/12/27/ukraine-blasts/                                       \n",
       "33510 http://mashable.com/2014/12/27/youtube-channels-2015/                                \n",
       "      timedelta n_tokens_title n_tokens_content n_unique_tokens\n",
       "1     731       12             219              0.6635945      \n",
       "2     731        9             255              0.6047431      \n",
       "3     731        9             211              0.5751295      \n",
       "⋮     ⋮         ⋮              ⋮                ⋮              \n",
       "33508 8         12             328              0.6962963      \n",
       "33509 8          6             682              0.5394933      \n",
       "33510 8         10             157              0.7019868      \n",
       "      n_non_stop_words n_non_stop_unique_tokens num_hrefs num_self_hrefs\n",
       "1     1                0.8153846                4         2             \n",
       "2     1                0.7919463                3         1             \n",
       "3     1                0.6638655                3         1             \n",
       "⋮     ⋮                ⋮                        ⋮         ⋮             \n",
       "33508 1                0.8850575                 9        7             \n",
       "33509 1                0.6926605                10        1             \n",
       "33510 1                0.8461538                 1        1             \n",
       "      num_imgs ⋯ avg_negative_polarity min_negative_polarity\n",
       "1     1        ⋯ -0.3500000            -0.600               \n",
       "2     1        ⋯ -0.1187500            -0.125               \n",
       "3     1        ⋯ -0.4666667            -0.800               \n",
       "⋮     ⋮        ⋱ ⋮                     ⋮                    \n",
       "33508 3        ⋯ -0.2111111            -0.4                 \n",
       "33509 1        ⋯ -0.2052455            -0.5                 \n",
       "33510 0        ⋯ -0.2000000            -0.2                 \n",
       "      max_negative_polarity title_subjectivity title_sentiment_polarity\n",
       "1     -0.2000000            0.5                -0.1875                 \n",
       "2     -0.1000000            0.0                 0.0000                 \n",
       "3     -0.1333333            0.0                 0.0000                 \n",
       "⋮     ⋮                     ⋮                  ⋮                       \n",
       "33508 -0.1000               0.3000000          1.00                    \n",
       "33509 -0.0125               0.0000000          0.00                    \n",
       "33510 -0.2000               0.3333333          0.25                    \n",
       "      abs_title_subjectivity abs_title_sentiment_polarity shares\n",
       "1     0.0                    0.1875                        593  \n",
       "2     0.5                    0.0000                        711  \n",
       "3     0.5                    0.0000                       1500  \n",
       "⋮     ⋮                      ⋮                            ⋮     \n",
       "33508 0.2000000              1.00                         1900  \n",
       "33509 0.5000000              0.00                         1100  \n",
       "33510 0.1666667              0.25                         1300  \n",
       "      data_channel_type             weekday_posted      \n",
       "1     data_channel_is_entertainment weekday_is_monday   \n",
       "2     data_channel_is_bus           weekday_is_monday   \n",
       "3     data_channel_is_bus           weekday_is_monday   \n",
       "⋮     ⋮                             ⋮                   \n",
       "33508 data_channel_is_socmed        weekday_is_wednesday\n",
       "33509 data_channel_is_world         weekday_is_wednesday\n",
       "33510 data_channel_is_entertainment weekday_is_wednesday"
      ]
     },
     "metadata": {},
     "output_type": "display_data"
    }
   ],
   "source": [
    "# making the data channel type a single variable and removing the column of 1s and 0s as it does not make any sense after\n",
    "# pivot longer is applied\n",
    "\n",
    "clean_news_data <- news_data %>%\n",
    "    pivot_longer(cols = c(data_channel_is_lifestyle,\n",
    "                data_channel_is_entertainment,\n",
    "                data_channel_is_bus,\n",
    "                data_channel_is_socmed,\n",
    "                data_channel_is_tech,\n",
    "                data_channel_is_world), \n",
    "                names_to = 'data_channel_type',\n",
    "                values_to = 'na1') %>%\n",
    "\n",
    "# applying the same technique as above to the weekday columns by making weekday_posted a single column with\n",
    "# the 1s and 0s column removed\n",
    "\n",
    "    pivot_longer(cols = c(weekday_is_monday,\n",
    "                         weekday_is_tuesday,\n",
    "                         weekday_is_wednesday,\n",
    "                         weekday_is_thursday,\n",
    "                         weekday_is_friday,\n",
    "                         weekday_is_saturday,\n",
    "                         weekday_is_sunday),\n",
    "                names_to = 'weekday_posted',\n",
    "                values_to = 'na2') %>%\n",
    "\n",
    "# now we need to get rid of all of the redundant zeros that remain from the pivot longer function, \n",
    "# we only care about what the data channel type and week day posted are for each article, we do not need to know what \n",
    "# they are not (this is what the 0s are trying to convey)\n",
    "\n",
    "    filter(na1==1 & na2==1) %>%\n",
    "\n",
    "# data channel type is our class so we want it as a factor not a character\n",
    "\n",
    "    mutate(data_channel_type = as_factor(data_channel_type)) %>%\n",
    "    select(-na1, -na2, -is_weekend)\n",
    "\n",
    "# there is a column named is_weekend which is redundant as we already have a the weekday_posted column \n",
    "# that tells us whether each article was posted on saturday or sunday, so after applying the pivot longer\n",
    "# function, the is_weekend column does not make any sense in the data as it has 1s and 0s indicating which article\n",
    "# was posted on a weekend. Therefore, it is removed\n",
    "\n",
    "write_csv(clean_news_data, 'data/clean_news.csv', col_names=TRUE)\n",
    "\n",
    "clean_news_data"
   ]
  },
  {
   "cell_type": "code",
   "execution_count": 4,
   "metadata": {},
   "outputs": [],
   "source": [
    "# splitting data into training and testing data using a 75/25 split with 75% training data. The data set is very large,\n",
    "# so it allows us to develop the classifier on a large chunk of training data without compromising for the size of our \n",
    "# testing data since 25% of the data is still thousands of observations. Therefore a 75/25 split is suitable\n",
    "\n",
    "set.seed(1)\n",
    "\n",
    "news_split <- initial_split(clean_news_data, prop=0.75, strata=data_channel_type)\n",
    "news_training <- training(news_split)\n",
    "news_testing <- testing(news_split)"
   ]
  },
  {
   "cell_type": "code",
   "execution_count": 5,
   "metadata": {},
   "outputs": [
    {
     "name": "stderr",
     "output_type": "stream",
     "text": [
      "`summarise()` ungrouping output (override with `.groups` argument)\n",
      "\n"
     ]
    },
    {
     "data": {
      "text/html": [
       "<table>\n",
       "<caption>A tibble: 6 × 2</caption>\n",
       "<thead>\n",
       "\t<tr><th scope=col>data_channel_type</th><th scope=col>n</th></tr>\n",
       "\t<tr><th scope=col>&lt;fct&gt;</th><th scope=col>&lt;int&gt;</th></tr>\n",
       "</thead>\n",
       "<tbody>\n",
       "\t<tr><td>data_channel_is_entertainment</td><td>5301</td></tr>\n",
       "\t<tr><td>data_channel_is_bus          </td><td>4703</td></tr>\n",
       "\t<tr><td>data_channel_is_tech         </td><td>5511</td></tr>\n",
       "\t<tr><td>data_channel_is_lifestyle    </td><td>1554</td></tr>\n",
       "\t<tr><td>data_channel_is_world        </td><td>6341</td></tr>\n",
       "\t<tr><td>data_channel_is_socmed       </td><td>1725</td></tr>\n",
       "</tbody>\n",
       "</table>\n"
      ],
      "text/latex": [
       "A tibble: 6 × 2\n",
       "\\begin{tabular}{ll}\n",
       " data\\_channel\\_type & n\\\\\n",
       " <fct> & <int>\\\\\n",
       "\\hline\n",
       "\t data\\_channel\\_is\\_entertainment & 5301\\\\\n",
       "\t data\\_channel\\_is\\_bus           & 4703\\\\\n",
       "\t data\\_channel\\_is\\_tech          & 5511\\\\\n",
       "\t data\\_channel\\_is\\_lifestyle     & 1554\\\\\n",
       "\t data\\_channel\\_is\\_world         & 6341\\\\\n",
       "\t data\\_channel\\_is\\_socmed        & 1725\\\\\n",
       "\\end{tabular}\n"
      ],
      "text/markdown": [
       "\n",
       "A tibble: 6 × 2\n",
       "\n",
       "| data_channel_type &lt;fct&gt; | n &lt;int&gt; |\n",
       "|---|---|\n",
       "| data_channel_is_entertainment | 5301 |\n",
       "| data_channel_is_bus           | 4703 |\n",
       "| data_channel_is_tech          | 5511 |\n",
       "| data_channel_is_lifestyle     | 1554 |\n",
       "| data_channel_is_world         | 6341 |\n",
       "| data_channel_is_socmed        | 1725 |\n",
       "\n"
      ],
      "text/plain": [
       "  data_channel_type             n   \n",
       "1 data_channel_is_entertainment 5301\n",
       "2 data_channel_is_bus           4703\n",
       "3 data_channel_is_tech          5511\n",
       "4 data_channel_is_lifestyle     1554\n",
       "5 data_channel_is_world         6341\n",
       "6 data_channel_is_socmed        1725"
      ]
     },
     "metadata": {},
     "output_type": "display_data"
    }
   ],
   "source": [
 
    
    "num_obs <- news_training %>%\n",
    "    group_by(data_channel_type) %>%\n",
    "    summarize(n=n())\n",
    "num_obs\n",
    "\n",
    "# DESCRIPTION\n",
    "\n",
    "# This table is useful as it shows there is a class imbalance since the social media and lifestyle category have less observations. \n",
    "# Therefore, we will need to oversample these cases when developing our classifier to account for this disparity."
>>>>>>> eed88d71962b6eb6c686558d06f1606c94133286
   ]
  },
  {
   "cell_type": "code",
   "execution_count": 6,
   "metadata": {},
   "outputs": [
    {
     "data": {
      "text/html": [
       "<table>\n",
       "<caption>A tibble: 1 × 2</caption>\n",
       "<thead>\n",
       "\t<tr><th scope=col>rate_positive_words</th><th scope=col>rate_negative_words</th></tr>\n",
       "\t<tr><th scope=col>&lt;dbl&gt;</th><th scope=col>&lt;dbl&gt;</th></tr>\n",
       "</thead>\n",
       "<tbody>\n",
       "\t<tr><td>0.6961696</td><td>0.2880357</td></tr>\n",
       "</tbody>\n",
       "</table>\n"
      ],
      "text/latex": [
       "A tibble: 1 × 2\n",
       "\\begin{tabular}{ll}\n",
       " rate\\_positive\\_words & rate\\_negative\\_words\\\\\n",
       " <dbl> & <dbl>\\\\\n",
       "\\hline\n",
       "\t 0.6961696 & 0.2880357\\\\\n",
       "\\end{tabular}\n"
      ],
      "text/markdown": [
       "\n",
       "A tibble: 1 × 2\n",
       "\n",
       "| rate_positive_words &lt;dbl&gt; | rate_negative_words &lt;dbl&gt; |\n",
       "|---|---|\n",
       "| 0.6961696 | 0.2880357 |\n",
       "\n"
      ],
      "text/plain": [
       "  rate_positive_words rate_negative_words\n",
       "1 0.6961696           0.2880357          "
      ]
     },
     "metadata": {},
     "output_type": "display_data"
    }
   ],
   "source": [
    "predictors_avg <- news_training %>%\n",
    "    select(rate_positive_words, rate_negative_words) %>%\n",
    "    map_df(mean)\n",
    "predictors_avg\n",
    "\n",
    "# DESCRIPTION\n",
    "\n",
    "# This table shows the average for the predictors we are using among all of the observations. \n",
    "# This is important information as it lets us know whether there is a drastic enough difference between the rates of positive and negative words \n",
    "# to make our classifier useful. There is quite a large difference, so our classifier should yield interesting results."
   ]
  },
  {
   "cell_type": "code",
   "execution_count": 7,
   "metadata": {},
   "outputs": [
    {
     "data": {
      "text/html": [
       "<table>\n",
       "<caption>A tibble: 397 × 49</caption>\n",
       "<thead>\n",
       "\t<tr><th scope=col>url</th><th scope=col>timedelta</th><th scope=col>n_tokens_title</th><th scope=col>n_tokens_content</th><th scope=col>n_unique_tokens</th><th scope=col>n_non_stop_words</th><th scope=col>n_non_stop_unique_tokens</th><th scope=col>num_hrefs</th><th scope=col>num_self_hrefs</th><th scope=col>num_imgs</th><th scope=col>⋯</th><th scope=col>avg_negative_polarity</th><th scope=col>min_negative_polarity</th><th scope=col>max_negative_polarity</th><th scope=col>title_subjectivity</th><th scope=col>title_sentiment_polarity</th><th scope=col>abs_title_subjectivity</th><th scope=col>abs_title_sentiment_polarity</th><th scope=col>shares</th><th scope=col>data_channel_type</th><th scope=col>weekday_posted</th></tr>\n",
       "\t<tr><th scope=col>&lt;chr&gt;</th><th scope=col>&lt;dbl&gt;</th><th scope=col>&lt;dbl&gt;</th><th scope=col>&lt;dbl&gt;</th><th scope=col>&lt;dbl&gt;</th><th scope=col>&lt;dbl&gt;</th><th scope=col>&lt;dbl&gt;</th><th scope=col>&lt;dbl&gt;</th><th scope=col>&lt;dbl&gt;</th><th scope=col>&lt;dbl&gt;</th><th scope=col>⋯</th><th scope=col>&lt;dbl&gt;</th><th scope=col>&lt;dbl&gt;</th><th scope=col>&lt;dbl&gt;</th><th scope=col>&lt;dbl&gt;</th><th scope=col>&lt;dbl&gt;</th><th scope=col>&lt;dbl&gt;</th><th scope=col>&lt;dbl&gt;</th><th scope=col>&lt;dbl&gt;</th><th scope=col>&lt;fct&gt;</th><th scope=col>&lt;chr&gt;</th></tr>\n",
       "</thead>\n",
       "<tbody>\n",
       "\t<tr><td>http://mashable.com/2013/01/23/fitness-gadget-gym-cost-comparison/</td><td>715</td><td> 8</td><td>0</td><td>0</td><td>0</td><td>0</td><td>0</td><td>0</td><td>0</td><td>⋯</td><td>0</td><td>0</td><td>0</td><td>0.00000000</td><td>0.00000000</td><td>0.5000000</td><td>0.00000000</td><td>1700</td><td>data_channel_is_lifestyle</td><td>weekday_is_wednesday</td></tr>\n",
       "\t<tr><td>http://mashable.com/2013/01/25/data-vs-nature-infographic/        </td><td>713</td><td>12</td><td>0</td><td>0</td><td>0</td><td>0</td><td>0</td><td>0</td><td>0</td><td>⋯</td><td>0</td><td>0</td><td>0</td><td>0.00000000</td><td>0.00000000</td><td>0.5000000</td><td>0.00000000</td><td>4500</td><td>data_channel_is_tech     </td><td>weekday_is_friday   </td></tr>\n",
       "\t<tr><td>http://mashable.com/2013/01/26/infographics-marketing/            </td><td>712</td><td>10</td><td>0</td><td>0</td><td>0</td><td>0</td><td>0</td><td>0</td><td>0</td><td>⋯</td><td>0</td><td>0</td><td>0</td><td>0.06666667</td><td>0.03333333</td><td>0.4333333</td><td>0.03333333</td><td>6800</td><td>data_channel_is_bus      </td><td>weekday_is_saturday </td></tr>\n",
       "\t<tr><td>⋮</td><td>⋮</td><td>⋮</td><td>⋮</td><td>⋮</td><td>⋮</td><td>⋮</td><td>⋮</td><td>⋮</td><td>⋮</td><td>⋱</td><td>⋮</td><td>⋮</td><td>⋮</td><td>⋮</td><td>⋮</td><td>⋮</td><td>⋮</td><td>⋮</td><td>⋮</td><td>⋮</td></tr>\n",
       "\t<tr><td>http://mashable.com/2014/12/24/live-updates-antonio-martin-vigil/</td><td>11</td><td>10</td><td>0</td><td>0</td><td>0</td><td>0</td><td>0</td><td>0</td><td>10</td><td>⋯</td><td>0</td><td>0</td><td>0</td><td>0.5000000</td><td>0.5000000</td><td>0.00000000</td><td>0.5000000</td><td>1800</td><td>data_channel_is_lifestyle</td><td>weekday_is_sunday </td></tr>\n",
       "\t<tr><td>http://mashable.com/2014/12/24/loyal-dog-chases-after-ambulance/ </td><td>11</td><td> 7</td><td>0</td><td>0</td><td>0</td><td>0</td><td>0</td><td>0</td><td>13</td><td>⋯</td><td>0</td><td>0</td><td>0</td><td>0.0000000</td><td>0.0000000</td><td>0.50000000</td><td>0.0000000</td><td>1600</td><td>data_channel_is_world    </td><td>weekday_is_sunday </td></tr>\n",
       "\t<tr><td>http://mashable.com/2014/12/26/toothpaste-fluorine-space/        </td><td> 9</td><td>11</td><td>0</td><td>0</td><td>0</td><td>0</td><td>0</td><td>0</td><td>21</td><td>⋯</td><td>0</td><td>0</td><td>0</td><td>0.4545455</td><td>0.1363636</td><td>0.04545455</td><td>0.1363636</td><td>5700</td><td>data_channel_is_world    </td><td>weekday_is_tuesday</td></tr>\n",
       "</tbody>\n",
       "</table>\n"
      ],
      "text/latex": [
       "A tibble: 397 × 49\n",
       "\\begin{tabular}{lllllllllllllllllllll}\n",
       " url & timedelta & n\\_tokens\\_title & n\\_tokens\\_content & n\\_unique\\_tokens & n\\_non\\_stop\\_words & n\\_non\\_stop\\_unique\\_tokens & num\\_hrefs & num\\_self\\_hrefs & num\\_imgs & ⋯ & avg\\_negative\\_polarity & min\\_negative\\_polarity & max\\_negative\\_polarity & title\\_subjectivity & title\\_sentiment\\_polarity & abs\\_title\\_subjectivity & abs\\_title\\_sentiment\\_polarity & shares & data\\_channel\\_type & weekday\\_posted\\\\\n",
       " <chr> & <dbl> & <dbl> & <dbl> & <dbl> & <dbl> & <dbl> & <dbl> & <dbl> & <dbl> & ⋯ & <dbl> & <dbl> & <dbl> & <dbl> & <dbl> & <dbl> & <dbl> & <dbl> & <fct> & <chr>\\\\\n",
       "\\hline\n",
       "\t http://mashable.com/2013/01/23/fitness-gadget-gym-cost-comparison/ & 715 &  8 & 0 & 0 & 0 & 0 & 0 & 0 & 0 & ⋯ & 0 & 0 & 0 & 0.00000000 & 0.00000000 & 0.5000000 & 0.00000000 & 1700 & data\\_channel\\_is\\_lifestyle & weekday\\_is\\_wednesday\\\\\n",
       "\t http://mashable.com/2013/01/25/data-vs-nature-infographic/         & 713 & 12 & 0 & 0 & 0 & 0 & 0 & 0 & 0 & ⋯ & 0 & 0 & 0 & 0.00000000 & 0.00000000 & 0.5000000 & 0.00000000 & 4500 & data\\_channel\\_is\\_tech      & weekday\\_is\\_friday   \\\\\n",
       "\t http://mashable.com/2013/01/26/infographics-marketing/             & 712 & 10 & 0 & 0 & 0 & 0 & 0 & 0 & 0 & ⋯ & 0 & 0 & 0 & 0.06666667 & 0.03333333 & 0.4333333 & 0.03333333 & 6800 & data\\_channel\\_is\\_bus       & weekday\\_is\\_saturday \\\\\n",
       "\t ⋮ & ⋮ & ⋮ & ⋮ & ⋮ & ⋮ & ⋮ & ⋮ & ⋮ & ⋮ & ⋱ & ⋮ & ⋮ & ⋮ & ⋮ & ⋮ & ⋮ & ⋮ & ⋮ & ⋮ & ⋮\\\\\n",
       "\t http://mashable.com/2014/12/24/live-updates-antonio-martin-vigil/ & 11 & 10 & 0 & 0 & 0 & 0 & 0 & 0 & 10 & ⋯ & 0 & 0 & 0 & 0.5000000 & 0.5000000 & 0.00000000 & 0.5000000 & 1800 & data\\_channel\\_is\\_lifestyle & weekday\\_is\\_sunday \\\\\n",
       "\t http://mashable.com/2014/12/24/loyal-dog-chases-after-ambulance/  & 11 &  7 & 0 & 0 & 0 & 0 & 0 & 0 & 13 & ⋯ & 0 & 0 & 0 & 0.0000000 & 0.0000000 & 0.50000000 & 0.0000000 & 1600 & data\\_channel\\_is\\_world     & weekday\\_is\\_sunday \\\\\n",
       "\t http://mashable.com/2014/12/26/toothpaste-fluorine-space/         &  9 & 11 & 0 & 0 & 0 & 0 & 0 & 0 & 21 & ⋯ & 0 & 0 & 0 & 0.4545455 & 0.1363636 & 0.04545455 & 0.1363636 & 5700 & data\\_channel\\_is\\_world     & weekday\\_is\\_tuesday\\\\\n",
       "\\end{tabular}\n"
      ],
      "text/markdown": [
       "\n",
       "A tibble: 397 × 49\n",
       "\n",
       "| url &lt;chr&gt; | timedelta &lt;dbl&gt; | n_tokens_title &lt;dbl&gt; | n_tokens_content &lt;dbl&gt; | n_unique_tokens &lt;dbl&gt; | n_non_stop_words &lt;dbl&gt; | n_non_stop_unique_tokens &lt;dbl&gt; | num_hrefs &lt;dbl&gt; | num_self_hrefs &lt;dbl&gt; | num_imgs &lt;dbl&gt; | ⋯ ⋯ | avg_negative_polarity &lt;dbl&gt; | min_negative_polarity &lt;dbl&gt; | max_negative_polarity &lt;dbl&gt; | title_subjectivity &lt;dbl&gt; | title_sentiment_polarity &lt;dbl&gt; | abs_title_subjectivity &lt;dbl&gt; | abs_title_sentiment_polarity &lt;dbl&gt; | shares &lt;dbl&gt; | data_channel_type &lt;fct&gt; | weekday_posted &lt;chr&gt; |\n",
       "|---|---|---|---|---|---|---|---|---|---|---|---|---|---|---|---|---|---|---|---|---|\n",
       "| http://mashable.com/2013/01/23/fitness-gadget-gym-cost-comparison/ | 715 |  8 | 0 | 0 | 0 | 0 | 0 | 0 | 0 | ⋯ | 0 | 0 | 0 | 0.00000000 | 0.00000000 | 0.5000000 | 0.00000000 | 1700 | data_channel_is_lifestyle | weekday_is_wednesday |\n",
       "| http://mashable.com/2013/01/25/data-vs-nature-infographic/         | 713 | 12 | 0 | 0 | 0 | 0 | 0 | 0 | 0 | ⋯ | 0 | 0 | 0 | 0.00000000 | 0.00000000 | 0.5000000 | 0.00000000 | 4500 | data_channel_is_tech      | weekday_is_friday    |\n",
       "| http://mashable.com/2013/01/26/infographics-marketing/             | 712 | 10 | 0 | 0 | 0 | 0 | 0 | 0 | 0 | ⋯ | 0 | 0 | 0 | 0.06666667 | 0.03333333 | 0.4333333 | 0.03333333 | 6800 | data_channel_is_bus       | weekday_is_saturday  |\n",
       "| ⋮ | ⋮ | ⋮ | ⋮ | ⋮ | ⋮ | ⋮ | ⋮ | ⋮ | ⋮ | ⋱ | ⋮ | ⋮ | ⋮ | ⋮ | ⋮ | ⋮ | ⋮ | ⋮ | ⋮ | ⋮ |\n",
       "| http://mashable.com/2014/12/24/live-updates-antonio-martin-vigil/ | 11 | 10 | 0 | 0 | 0 | 0 | 0 | 0 | 10 | ⋯ | 0 | 0 | 0 | 0.5000000 | 0.5000000 | 0.00000000 | 0.5000000 | 1800 | data_channel_is_lifestyle | weekday_is_sunday  |\n",
       "| http://mashable.com/2014/12/24/loyal-dog-chases-after-ambulance/  | 11 |  7 | 0 | 0 | 0 | 0 | 0 | 0 | 13 | ⋯ | 0 | 0 | 0 | 0.0000000 | 0.0000000 | 0.50000000 | 0.0000000 | 1600 | data_channel_is_world     | weekday_is_sunday  |\n",
       "| http://mashable.com/2014/12/26/toothpaste-fluorine-space/         |  9 | 11 | 0 | 0 | 0 | 0 | 0 | 0 | 21 | ⋯ | 0 | 0 | 0 | 0.4545455 | 0.1363636 | 0.04545455 | 0.1363636 | 5700 | data_channel_is_world     | weekday_is_tuesday |\n",
       "\n"
      ],
      "text/plain": [
       "    url                                                               \n",
       "1   http://mashable.com/2013/01/23/fitness-gadget-gym-cost-comparison/\n",
       "2   http://mashable.com/2013/01/25/data-vs-nature-infographic/        \n",
       "3   http://mashable.com/2013/01/26/infographics-marketing/            \n",
       "⋮   ⋮                                                                 \n",
       "395 http://mashable.com/2014/12/24/live-updates-antonio-martin-vigil/ \n",
       "396 http://mashable.com/2014/12/24/loyal-dog-chases-after-ambulance/  \n",
       "397 http://mashable.com/2014/12/26/toothpaste-fluorine-space/         \n",
       "    timedelta n_tokens_title n_tokens_content n_unique_tokens n_non_stop_words\n",
       "1   715        8             0                0               0               \n",
       "2   713       12             0                0               0               \n",
       "3   712       10             0                0               0               \n",
       "⋮   ⋮         ⋮              ⋮                ⋮               ⋮               \n",
       "395 11        10             0                0               0               \n",
       "396 11         7             0                0               0               \n",
       "397  9        11             0                0               0               \n",
       "    n_non_stop_unique_tokens num_hrefs num_self_hrefs num_imgs ⋯\n",
       "1   0                        0         0              0        ⋯\n",
       "2   0                        0         0              0        ⋯\n",
       "3   0                        0         0              0        ⋯\n",
       "⋮   ⋮                        ⋮         ⋮              ⋮        ⋱\n",
       "395 0                        0         0              10       ⋯\n",
       "396 0                        0         0              13       ⋯\n",
       "397 0                        0         0              21       ⋯\n",
       "    avg_negative_polarity min_negative_polarity max_negative_polarity\n",
       "1   0                     0                     0                    \n",
       "2   0                     0                     0                    \n",
       "3   0                     0                     0                    \n",
       "⋮   ⋮                     ⋮                     ⋮                    \n",
       "395 0                     0                     0                    \n",
       "396 0                     0                     0                    \n",
       "397 0                     0                     0                    \n",
       "    title_subjectivity title_sentiment_polarity abs_title_subjectivity\n",
       "1   0.00000000         0.00000000               0.5000000             \n",
       "2   0.00000000         0.00000000               0.5000000             \n",
       "3   0.06666667         0.03333333               0.4333333             \n",
       "⋮   ⋮                  ⋮                        ⋮                     \n",
       "395 0.5000000          0.5000000                0.00000000            \n",
       "396 0.0000000          0.0000000                0.50000000            \n",
       "397 0.4545455          0.1363636                0.04545455            \n",
       "    abs_title_sentiment_polarity shares data_channel_type        \n",
       "1   0.00000000                   1700   data_channel_is_lifestyle\n",
       "2   0.00000000                   4500   data_channel_is_tech     \n",
       "3   0.03333333                   6800   data_channel_is_bus      \n",
       "⋮   ⋮                            ⋮      ⋮                        \n",
       "395 0.5000000                    1800   data_channel_is_lifestyle\n",
       "396 0.0000000                    1600   data_channel_is_world    \n",
       "397 0.1363636                    5700   data_channel_is_world    \n",
       "    weekday_posted      \n",
       "1   weekday_is_wednesday\n",
       "2   weekday_is_friday   \n",
       "3   weekday_is_saturday \n",
       "⋮   ⋮                   \n",
       "395 weekday_is_sunday   \n",
       "396 weekday_is_sunday   \n",
       "397 weekday_is_tuesday  "
      ]
     },
     "metadata": {},
     "output_type": "display_data"
    }
   ],
   "source": [
    "missing <- news_training %>%\n",
    "    filter(rate_positive_words == 0 & rate_negative_words == 0) \n",
    "\n",
    "missing\n",
    "    \n",
    "# DESCRIPTION\n",
    "\n",
    "# This table corresponds to data containing missing values as both the rate of positive and negative words is said to be 0. \n",
    "# If only one of them is 0, it could be totally possible but for both to be 0 it indicates a lack of data most likely. \n",
    "# These will have to be removed from the training set when building the classifier."
   ]
  },
  {
   "cell_type": "code",
   "execution_count": 8,
   "metadata": {},
   "outputs": [
    {
     "name": "stderr",
     "output_type": "stream",
     "text": [
      "Joining, by = c(\"url\", \"timedelta\", \"n_tokens_title\", \"n_tokens_content\", \"n_unique_tokens\", \"n_non_stop_words\", \"n_non_stop_unique_tokens\", \"num_hrefs\", \"num_self_hrefs\", \"num_imgs\", \"num_videos\", \"average_token_length\", \"num_keywords\", \"kw_min_min\", \"kw_max_min\", \"kw_avg_min\", \"kw_min_max\", \"kw_max_max\", \"kw_avg_max\", \"kw_min_avg\", \"kw_max_avg\", \"kw_avg_avg\", \"self_reference_min_shares\", \"self_reference_max_shares\", \"self_reference_avg_sharess\", \"LDA_00\", \"LDA_01\", \"LDA_02\", \"LDA_03\", \"LDA_04\", \"global_subjectivity\", \"global_sentiment_polarity\", \"global_rate_positive_words\", \"global_rate_negative_words\", \"rate_positive_words\", \"rate_negative_words\", \"avg_positive_polarity\", \"min_positive_polarity\", \"max_positive_polarity\", \"avg_negative_polarity\", \"min_negative_polarity\", \"max_negative_polarity\", \"title_subjectivity\", \"title_sentiment_polarity\", \"abs_title_subjectivity\", \"abs_title_sentiment_polarity\", \"shares\", \"data_channel_type\", \"weekday_posted\")\n",
      "\n",
      "`summarise()` ungrouping output (override with `.groups` argument)\n",
      "\n",
      "`summarise()` ungrouping output (override with `.groups` argument)\n",
      "\n",
      "New names:\n",
      "* data_channel_type -> data_channel_type...1\n",
      "* data_channel_type -> data_channel_type...3\n",
      "\n"
     ]
    },
    {
     "data": {
      "text/html": [
       "<table>\n",
       "<caption>A tibble: 6 × 3</caption>\n",
       "<thead>\n",
       "\t<tr><th scope=col>data_channel_type</th><th scope=col>average_rate_positive_words</th><th scope=col>average_rate_negative_words</th></tr>\n",
       "\t<tr><th scope=col>&lt;fct&gt;</th><th scope=col>&lt;dbl&gt;</th><th scope=col>&lt;dbl&gt;</th></tr>\n",
       "</thead>\n",
       "<tbody>\n",
       "\t<tr><td>data_channel_is_entertainment</td><td>0.6873342</td><td>0.3126658</td></tr>\n",
       "\t<tr><td>data_channel_is_bus          </td><td>0.7415156</td><td>0.2584844</td></tr>\n",
       "\t<tr><td>data_channel_is_tech         </td><td>0.7496537</td><td>0.2503463</td></tr>\n",
       "\t<tr><td>data_channel_is_lifestyle    </td><td>0.7305545</td><td>0.2694455</td></tr>\n",
       "\t<tr><td>data_channel_is_world        </td><td>0.6429144</td><td>0.3570856</td></tr>\n",
       "\t<tr><td>data_channel_is_socmed       </td><td>0.7487918</td><td>0.2512082</td></tr>\n",
       "</tbody>\n",
       "</table>\n"
      ],
      "text/latex": [
       "A tibble: 6 × 3\n",
       "\\begin{tabular}{lll}\n",
       " data\\_channel\\_type & average\\_rate\\_positive\\_words & average\\_rate\\_negative\\_words\\\\\n",
       " <fct> & <dbl> & <dbl>\\\\\n",
       "\\hline\n",
       "\t data\\_channel\\_is\\_entertainment & 0.6873342 & 0.3126658\\\\\n",
       "\t data\\_channel\\_is\\_bus           & 0.7415156 & 0.2584844\\\\\n",
       "\t data\\_channel\\_is\\_tech          & 0.7496537 & 0.2503463\\\\\n",
       "\t data\\_channel\\_is\\_lifestyle     & 0.7305545 & 0.2694455\\\\\n",
       "\t data\\_channel\\_is\\_world         & 0.6429144 & 0.3570856\\\\\n",
       "\t data\\_channel\\_is\\_socmed        & 0.7487918 & 0.2512082\\\\\n",
       "\\end{tabular}\n"
      ],
      "text/markdown": [
       "\n",
       "A tibble: 6 × 3\n",
       "\n",
       "| data_channel_type &lt;fct&gt; | average_rate_positive_words &lt;dbl&gt; | average_rate_negative_words &lt;dbl&gt; |\n",
       "|---|---|---|\n",
       "| data_channel_is_entertainment | 0.6873342 | 0.3126658 |\n",
       "| data_channel_is_bus           | 0.7415156 | 0.2584844 |\n",
       "| data_channel_is_tech          | 0.7496537 | 0.2503463 |\n",
       "| data_channel_is_lifestyle     | 0.7305545 | 0.2694455 |\n",
       "| data_channel_is_world         | 0.6429144 | 0.3570856 |\n",
       "| data_channel_is_socmed        | 0.7487918 | 0.2512082 |\n",
       "\n"
      ],
      "text/plain": [
       "  data_channel_type             average_rate_positive_words\n",
       "1 data_channel_is_entertainment 0.6873342                  \n",
       "2 data_channel_is_bus           0.7415156                  \n",
       "3 data_channel_is_tech          0.7496537                  \n",
       "4 data_channel_is_lifestyle     0.7305545                  \n",
       "5 data_channel_is_world         0.6429144                  \n",
       "6 data_channel_is_socmed        0.7487918                  \n",
       "  average_rate_negative_words\n",
       "1 0.3126658                  \n",
       "2 0.2584844                  \n",
       "3 0.2503463                  \n",
       "4 0.2694455                  \n",
       "5 0.3570856                  \n",
       "6 0.2512082                  "
      ]
     },
     "metadata": {},
     "output_type": "display_data"
    },
    {
     "data": {
      "image/png": "iVBORw0KGgoAAAANSUhEUgAABpAAAANICAIAAABPFDtzAAAACXBIWXMAABJ0AAASdAHeZh94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\nRU5ErkJggg==",
      "text/plain": [
       "plot without title"
      ]
     },
     "metadata": {
      "image/png": {
       "height": 420,
       "width": 840
      }
     },
     "output_type": "display_data"
    }
   ],
   "source": [
    "# excluding the rows from above that have inconclusive data\n",
    "without_zeros <- news_training %>%\n",
    "    anti_join(missing)\n",
    "\n",
    "grouped_pos <- without_zeros %>%\n",
    "    group_by(data_channel_type) %>%\n",
    "    summarize(avg_pos = mean(rate_positive_words))\n",
    "grouped_neg <- without_zeros %>%\n",
    "    group_by(data_channel_type) %>%\n",
    "    summarize(avg_neg = mean(rate_negative_words))\n",
    "avg_together <- grouped_pos %>%\n",
    "    bind_cols(grouped_neg) %>%\n",
    "    select(-data_channel_type...3)\n",
    "colnames(avg_together) <- c('data_channel_type', 'average_rate_positive_words', 'average_rate_negative_words')\n",
    "avg_together\n",
    "\n",
    "options(repr.plot.width = 14, repr.plot.height=7)\n",
    "viz <- avg_together %>%\n",
    "    gather('key', 'value', -c(data_channel_type)) %>%\n",
    "    ggplot(aes(x=data_channel_type, y=value, group=key, fill=key)) +\n",
    "    geom_bar(stat='identity') +\n",
    "    coord_flip() +\n",
    "    labs(x='Data Channel Type', y='Average Global Rate of Occurence', fill='Legend') +\n",
    "    theme(text=element_text(size=15))\n",
    "viz\n",
    "\n",
    "# DESCRIPTION\n",
    "\n",
    "# This plot shows a distribution of the average rate of both positive and negative words within each data channel category. \n",
    "# This plot guides us in predicting how our classifier should behave in classifying different data channel types from their global rates \n",
    "# of positive and negative words by providing us the average relative proportions among each group."
   ]
  },
  {
   "cell_type": "markdown",
   "metadata": {},
   "source": [
    "## Methods"
   ]
  },
  {
   "cell_type": "markdown",
   "metadata": {},
   "source": [
    "- The purpose of the analysis is to predict the relationship between the global rate of positive and negative words in a news article, and the category the news channel belongs to.\n",
    "- We will use the K-nearest algorithm for classification to predict the data channel type using the global rate of positive and negative words as our two predictors.\n",
    "- These are good predictors as they are directly linked to the content of the articles, so it is interesting to see how these predictors differ among news articles pertaining to different topics (e.g. lifestyle versus business).\n",
    "- One way we will visualize the results is creating a scatter plot from our testing data with the global positive rate of words on the x-axis and the rate of negative words on the y-axis, with the points coloured by the data channel type."
   ]
  },
  {
   "cell_type": "markdown",
   "metadata": {},
   "source": [
    "## Expected Outcomes and Significance\n"
   ]
  },
  {
   "cell_type": "markdown",
   "metadata": {},
   "source": [
    "We anticipate that social media, entertainment, and political news would have the highest concentration of negative words, ranked respectively. Social media will have the lead due to the nature of the platform given the freedom and the lack of control. As for the positive words, we expect that tech news will be the outlier given the developments and marketing of technology in the news channels. For the rest, we believe there won’t be a disparity in the use of positive words and data points will be somewhat scattered across.\n",
    "\n",
    "These findings could indicate whether a certain type of news is suited for juveniles. Parents could block access to these articles especially for kids who are under 10. Additionally, the analysis could be used to improve automated journalism by identifying the concentration of words and their connotations; news that doesn’t require creative writing such as tech, finance, sports, and elections are good options.\n",
    "\n",
    "Some future questions that may arise could be how does the rate of positive or negative words in an article affect how the news is received by a specific demographic, and whether there is any difference in tolerance for readers of a specific news type compared to another.\n",
    "\n",
    "Word Count (500)"
   ]
  }
 ],
 "metadata": {
  "kernelspec": {
   "display_name": "R",
   "language": "R",
   "name": "ir"
  },
  "language_info": {
   "codemirror_mode": "r",
   "file_extension": ".r",
   "mimetype": "text/x-r-source",
   "name": "R",
   "pygments_lexer": "r",
   "version": "4.0.0"
  }
 },
 "nbformat": 4,
 "nbformat_minor": 4
}
