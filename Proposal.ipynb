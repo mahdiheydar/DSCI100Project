{
 "cells": [
  {
   "cell_type": "markdown",
   "metadata": {},
   "source": [
    "# Rates of Positive and Negative Words in News Articles of Different Topics"
   ]
  },
  {
   "cell_type": "code",
   "execution_count": 1,
   "metadata": {},
   "outputs": [
    {
     "name": "stderr",
     "output_type": "stream",
     "text": [
      "── \u001b[1mAttaching packages\u001b[22m ─────────────────────────────────────── tidyverse 1.3.0 ──\n",
      "\n",
      "\u001b[32m✔\u001b[39m \u001b[34mggplot2\u001b[39m 3.3.2     \u001b[32m✔\u001b[39m \u001b[34mpurrr  \u001b[39m 0.3.4\n",
      "\u001b[32m✔\u001b[39m \u001b[34mtibble \u001b[39m 3.0.3     \u001b[32m✔\u001b[39m \u001b[34mdplyr  \u001b[39m 1.0.2\n",
      "\u001b[32m✔\u001b[39m \u001b[34mtidyr  \u001b[39m 1.1.2     \u001b[32m✔\u001b[39m \u001b[34mstringr\u001b[39m 1.4.0\n",
      "\u001b[32m✔\u001b[39m \u001b[34mreadr  \u001b[39m 1.3.1     \u001b[32m✔\u001b[39m \u001b[34mforcats\u001b[39m 0.5.0\n",
      "\n",
      "Warning message:\n",
      "“package ‘ggplot2’ was built under R version 4.0.1”\n",
      "Warning message:\n",
      "“package ‘tibble’ was built under R version 4.0.2”\n",
      "Warning message:\n",
      "“package ‘tidyr’ was built under R version 4.0.2”\n",
      "Warning message:\n",
      "“package ‘dplyr’ was built under R version 4.0.2”\n",
      "── \u001b[1mConflicts\u001b[22m ────────────────────────────────────────── tidyverse_conflicts() ──\n",
      "\u001b[31m✖\u001b[39m \u001b[34mdplyr\u001b[39m::\u001b[32mfilter()\u001b[39m masks \u001b[34mstats\u001b[39m::filter()\n",
      "\u001b[31m✖\u001b[39m \u001b[34mdplyr\u001b[39m::\u001b[32mlag()\u001b[39m    masks \u001b[34mstats\u001b[39m::lag()\n",
      "\n",
      "Warning message:\n",
      "“package ‘tidymodels’ was built under R version 4.0.2”\n",
      "── \u001b[1mAttaching packages\u001b[22m ────────────────────────────────────── tidymodels 0.1.1 ──\n",
      "\n",
      "\u001b[32m✔\u001b[39m \u001b[34mbroom    \u001b[39m 0.7.0      \u001b[32m✔\u001b[39m \u001b[34mrecipes  \u001b[39m 0.1.13\n",
      "\u001b[32m✔\u001b[39m \u001b[34mdials    \u001b[39m 0.0.9      \u001b[32m✔\u001b[39m \u001b[34mrsample  \u001b[39m 0.0.7 \n",
      "\u001b[32m✔\u001b[39m \u001b[34minfer    \u001b[39m 0.5.4      \u001b[32m✔\u001b[39m \u001b[34mtune     \u001b[39m 0.1.1 \n",
      "\u001b[32m✔\u001b[39m \u001b[34mmodeldata\u001b[39m 0.0.2      \u001b[32m✔\u001b[39m \u001b[34mworkflows\u001b[39m 0.2.0 \n",
      "\u001b[32m✔\u001b[39m \u001b[34mparsnip  \u001b[39m 0.1.3      \u001b[32m✔\u001b[39m \u001b[34myardstick\u001b[39m 0.0.7 \n",
      "\n",
      "Warning message:\n",
      "“package ‘broom’ was built under R version 4.0.2”\n",
      "Warning message:\n",
      "“package ‘dials’ was built under R version 4.0.2”\n",
      "Warning message:\n",
      "“package ‘infer’ was built under R version 4.0.3”\n",
      "Warning message:\n",
      "“package ‘modeldata’ was built under R version 4.0.1”\n",
      "Warning message:\n",
      "“package ‘parsnip’ was built under R version 4.0.2”\n",
      "Warning message:\n",
      "“package ‘recipes’ was built under R version 4.0.1”\n",
      "Warning message:\n",
      "“package ‘tune’ was built under R version 4.0.2”\n",
      "Warning message:\n",
      "“package ‘workflows’ was built under R version 4.0.2”\n",
      "Warning message:\n",
      "“package ‘yardstick’ was built under R version 4.0.2”\n",
      "── \u001b[1mConflicts\u001b[22m ───────────────────────────────────────── tidymodels_conflicts() ──\n",
      "\u001b[31m✖\u001b[39m \u001b[34mscales\u001b[39m::\u001b[32mdiscard()\u001b[39m masks \u001b[34mpurrr\u001b[39m::discard()\n",
      "\u001b[31m✖\u001b[39m \u001b[34mdplyr\u001b[39m::\u001b[32mfilter()\u001b[39m   masks \u001b[34mstats\u001b[39m::filter()\n",
      "\u001b[31m✖\u001b[39m \u001b[34mrecipes\u001b[39m::\u001b[32mfixed()\u001b[39m  masks \u001b[34mstringr\u001b[39m::fixed()\n",
      "\u001b[31m✖\u001b[39m \u001b[34mdplyr\u001b[39m::\u001b[32mlag()\u001b[39m      masks \u001b[34mstats\u001b[39m::lag()\n",
      "\u001b[31m✖\u001b[39m \u001b[34myardstick\u001b[39m::\u001b[32mspec()\u001b[39m masks \u001b[34mreadr\u001b[39m::spec()\n",
      "\u001b[31m✖\u001b[39m \u001b[34mrecipes\u001b[39m::\u001b[32mstep()\u001b[39m   masks \u001b[34mstats\u001b[39m::step()\n",
      "\n"
     ]
    }
   ],
   "source": [
    "# Load packages\n",
    "library(tidyverse)\n",
    "library(dplyr)\n",
    "library(repr)\n",
    "library(tidymodels)\n",
    "options(repr.matrix.max.rows = 6)"
   ]
  },
  {
   "cell_type": "markdown",
   "metadata": {},
   "source": [
    "## Introduction"
   ]
  },
  {
   "cell_type": "markdown",
   "metadata": {},
   "source": [
    "News articles are often polarizing depending on their topic of discussion making this an interesting field for analysis. Therefore, we will be using the online news popularity data set for our analysis. Each row in this dataset corresponds to one article on the Mashable website with various variables given such as the rate of positive words in the article. We aim to classify each article, published by the data source Mashable, based on which channel they would belong to - social media, lifestyle, business, or entertainment. Our predictors for this classification would be the rate of positive and negative words used in the article. Data channel type refers to the topic/theme of the article, and the global rates of positive/negative words are proportions. The question to be answered is how articles of differing topics differ in the rates of positive and negative words by using our classifier to predict article categories for future articles based on their rates of positive and negative words. "
   ]
  },
  {
   "cell_type": "markdown",
   "metadata": {},
   "source": [
    "## Preliminary Exploratory Data Analysis"
   ]
  },
  {
   "cell_type": "code",
   "execution_count": 2,
   "metadata": {},
   "outputs": [
    {
     "name": "stderr",
     "output_type": "stream",
     "text": [
      "Parsed with column specification:\n",
      "cols(\n",
      "  .default = col_double(),\n",
      "  url = \u001b[31mcol_character()\u001b[39m\n",
      ")\n",
      "\n",
      "See spec(...) for full column specifications.\n",
      "\n"
     ]
    },
    {
     "data": {
      "text/html": [
       "<table>\n",
       "<caption>A spec_tbl_df: 39644 × 61</caption>\n",
       "<thead>\n",
       "\t<tr><th scope=col>url</th><th scope=col>timedelta</th><th scope=col>n_tokens_title</th><th scope=col>n_tokens_content</th><th scope=col>n_unique_tokens</th><th scope=col>n_non_stop_words</th><th scope=col>n_non_stop_unique_tokens</th><th scope=col>num_hrefs</th><th scope=col>num_self_hrefs</th><th scope=col>num_imgs</th><th scope=col>⋯</th><th scope=col>min_positive_polarity</th><th scope=col>max_positive_polarity</th><th scope=col>avg_negative_polarity</th><th scope=col>min_negative_polarity</th><th scope=col>max_negative_polarity</th><th scope=col>title_subjectivity</th><th scope=col>title_sentiment_polarity</th><th scope=col>abs_title_subjectivity</th><th scope=col>abs_title_sentiment_polarity</th><th scope=col>shares</th></tr>\n",
       "\t<tr><th scope=col>&lt;chr&gt;</th><th scope=col>&lt;dbl&gt;</th><th scope=col>&lt;dbl&gt;</th><th scope=col>&lt;dbl&gt;</th><th scope=col>&lt;dbl&gt;</th><th scope=col>&lt;dbl&gt;</th><th scope=col>&lt;dbl&gt;</th><th scope=col>&lt;dbl&gt;</th><th scope=col>&lt;dbl&gt;</th><th scope=col>&lt;dbl&gt;</th><th scope=col>⋯</th><th scope=col>&lt;dbl&gt;</th><th scope=col>&lt;dbl&gt;</th><th scope=col>&lt;dbl&gt;</th><th scope=col>&lt;dbl&gt;</th><th scope=col>&lt;dbl&gt;</th><th scope=col>&lt;dbl&gt;</th><th scope=col>&lt;dbl&gt;</th><th scope=col>&lt;dbl&gt;</th><th scope=col>&lt;dbl&gt;</th><th scope=col>&lt;dbl&gt;</th></tr>\n",
       "</thead>\n",
       "<tbody>\n",
       "\t<tr><td>http://mashable.com/2013/01/07/amazon-instant-video-browser/  </td><td>731</td><td>12</td><td>219</td><td>0.6635945</td><td>1</td><td>0.8153846</td><td>4</td><td>2</td><td>1</td><td>⋯</td><td>0.10000000</td><td>0.7</td><td>-0.3500000</td><td>-0.600</td><td>-0.2000000</td><td>0.5</td><td>-0.1875</td><td>0.0</td><td>0.1875</td><td> 593</td></tr>\n",
       "\t<tr><td>http://mashable.com/2013/01/07/ap-samsung-sponsored-tweets/   </td><td>731</td><td> 9</td><td>255</td><td>0.6047431</td><td>1</td><td>0.7919463</td><td>3</td><td>1</td><td>1</td><td>⋯</td><td>0.03333333</td><td>0.7</td><td>-0.1187500</td><td>-0.125</td><td>-0.1000000</td><td>0.0</td><td> 0.0000</td><td>0.5</td><td>0.0000</td><td> 711</td></tr>\n",
       "\t<tr><td>http://mashable.com/2013/01/07/apple-40-billion-app-downloads/</td><td>731</td><td> 9</td><td>211</td><td>0.5751295</td><td>1</td><td>0.6638655</td><td>3</td><td>1</td><td>1</td><td>⋯</td><td>0.10000000</td><td>1.0</td><td>-0.4666667</td><td>-0.800</td><td>-0.1333333</td><td>0.0</td><td> 0.0000</td><td>0.5</td><td>0.0000</td><td>1500</td></tr>\n",
       "\t<tr><td>⋮</td><td>⋮</td><td>⋮</td><td>⋮</td><td>⋮</td><td>⋮</td><td>⋮</td><td>⋮</td><td>⋮</td><td>⋮</td><td>⋱</td><td>⋮</td><td>⋮</td><td>⋮</td><td>⋮</td><td>⋮</td><td>⋮</td><td>⋮</td><td>⋮</td><td>⋮</td><td>⋮</td></tr>\n",
       "\t<tr><td>http://mashable.com/2014/12/27/son-pays-off-mortgage/</td><td>8</td><td>10</td><td>442</td><td>0.5163551</td><td>1</td><td>0.6441281</td><td>24</td><td>1</td><td>12</td><td>⋯</td><td>0.1363636</td><td>0.5</td><td>-0.3564394</td><td>-0.8</td><td>-0.1666667</td><td>0.4545455</td><td>0.1363636</td><td>0.04545455</td><td>0.1363636</td><td>1900</td></tr>\n",
       "\t<tr><td>http://mashable.com/2014/12/27/ukraine-blasts/       </td><td>8</td><td> 6</td><td>682</td><td>0.5394933</td><td>1</td><td>0.6926605</td><td>10</td><td>1</td><td> 1</td><td>⋯</td><td>0.0625000</td><td>0.5</td><td>-0.2052455</td><td>-0.5</td><td>-0.0125000</td><td>0.0000000</td><td>0.0000000</td><td>0.50000000</td><td>0.0000000</td><td>1100</td></tr>\n",
       "\t<tr><td>http://mashable.com/2014/12/27/youtube-channels-2015/</td><td>8</td><td>10</td><td>157</td><td>0.7019868</td><td>1</td><td>0.8461538</td><td> 1</td><td>1</td><td> 0</td><td>⋯</td><td>0.1000000</td><td>0.5</td><td>-0.2000000</td><td>-0.2</td><td>-0.2000000</td><td>0.3333333</td><td>0.2500000</td><td>0.16666667</td><td>0.2500000</td><td>1300</td></tr>\n",
       "</tbody>\n",
       "</table>\n"
      ],
      "text/latex": [
       "A spec\\_tbl\\_df: 39644 × 61\n",
       "\\begin{tabular}{lllllllllllllllllllll}\n",
       " url & timedelta & n\\_tokens\\_title & n\\_tokens\\_content & n\\_unique\\_tokens & n\\_non\\_stop\\_words & n\\_non\\_stop\\_unique\\_tokens & num\\_hrefs & num\\_self\\_hrefs & num\\_imgs & ⋯ & min\\_positive\\_polarity & max\\_positive\\_polarity & avg\\_negative\\_polarity & min\\_negative\\_polarity & max\\_negative\\_polarity & title\\_subjectivity & title\\_sentiment\\_polarity & abs\\_title\\_subjectivity & abs\\_title\\_sentiment\\_polarity & shares\\\\\n",
       " <chr> & <dbl> & <dbl> & <dbl> & <dbl> & <dbl> & <dbl> & <dbl> & <dbl> & <dbl> & ⋯ & <dbl> & <dbl> & <dbl> & <dbl> & <dbl> & <dbl> & <dbl> & <dbl> & <dbl> & <dbl>\\\\\n",
       "\\hline\n",
       "\t http://mashable.com/2013/01/07/amazon-instant-video-browser/   & 731 & 12 & 219 & 0.6635945 & 1 & 0.8153846 & 4 & 2 & 1 & ⋯ & 0.10000000 & 0.7 & -0.3500000 & -0.600 & -0.2000000 & 0.5 & -0.1875 & 0.0 & 0.1875 &  593\\\\\n",
       "\t http://mashable.com/2013/01/07/ap-samsung-sponsored-tweets/    & 731 &  9 & 255 & 0.6047431 & 1 & 0.7919463 & 3 & 1 & 1 & ⋯ & 0.03333333 & 0.7 & -0.1187500 & -0.125 & -0.1000000 & 0.0 &  0.0000 & 0.5 & 0.0000 &  711\\\\\n",
       "\t http://mashable.com/2013/01/07/apple-40-billion-app-downloads/ & 731 &  9 & 211 & 0.5751295 & 1 & 0.6638655 & 3 & 1 & 1 & ⋯ & 0.10000000 & 1.0 & -0.4666667 & -0.800 & -0.1333333 & 0.0 &  0.0000 & 0.5 & 0.0000 & 1500\\\\\n",
       "\t ⋮ & ⋮ & ⋮ & ⋮ & ⋮ & ⋮ & ⋮ & ⋮ & ⋮ & ⋮ & ⋱ & ⋮ & ⋮ & ⋮ & ⋮ & ⋮ & ⋮ & ⋮ & ⋮ & ⋮ & ⋮\\\\\n",
       "\t http://mashable.com/2014/12/27/son-pays-off-mortgage/ & 8 & 10 & 442 & 0.5163551 & 1 & 0.6441281 & 24 & 1 & 12 & ⋯ & 0.1363636 & 0.5 & -0.3564394 & -0.8 & -0.1666667 & 0.4545455 & 0.1363636 & 0.04545455 & 0.1363636 & 1900\\\\\n",
       "\t http://mashable.com/2014/12/27/ukraine-blasts/        & 8 &  6 & 682 & 0.5394933 & 1 & 0.6926605 & 10 & 1 &  1 & ⋯ & 0.0625000 & 0.5 & -0.2052455 & -0.5 & -0.0125000 & 0.0000000 & 0.0000000 & 0.50000000 & 0.0000000 & 1100\\\\\n",
       "\t http://mashable.com/2014/12/27/youtube-channels-2015/ & 8 & 10 & 157 & 0.7019868 & 1 & 0.8461538 &  1 & 1 &  0 & ⋯ & 0.1000000 & 0.5 & -0.2000000 & -0.2 & -0.2000000 & 0.3333333 & 0.2500000 & 0.16666667 & 0.2500000 & 1300\\\\\n",
       "\\end{tabular}\n"
      ],
      "text/markdown": [
       "\n",
       "A spec_tbl_df: 39644 × 61\n",
       "\n",
       "| url &lt;chr&gt; | timedelta &lt;dbl&gt; | n_tokens_title &lt;dbl&gt; | n_tokens_content &lt;dbl&gt; | n_unique_tokens &lt;dbl&gt; | n_non_stop_words &lt;dbl&gt; | n_non_stop_unique_tokens &lt;dbl&gt; | num_hrefs &lt;dbl&gt; | num_self_hrefs &lt;dbl&gt; | num_imgs &lt;dbl&gt; | ⋯ ⋯ | min_positive_polarity &lt;dbl&gt; | max_positive_polarity &lt;dbl&gt; | avg_negative_polarity &lt;dbl&gt; | min_negative_polarity &lt;dbl&gt; | max_negative_polarity &lt;dbl&gt; | title_subjectivity &lt;dbl&gt; | title_sentiment_polarity &lt;dbl&gt; | abs_title_subjectivity &lt;dbl&gt; | abs_title_sentiment_polarity &lt;dbl&gt; | shares &lt;dbl&gt; |\n",
       "|---|---|---|---|---|---|---|---|---|---|---|---|---|---|---|---|---|---|---|---|---|\n",
       "| http://mashable.com/2013/01/07/amazon-instant-video-browser/   | 731 | 12 | 219 | 0.6635945 | 1 | 0.8153846 | 4 | 2 | 1 | ⋯ | 0.10000000 | 0.7 | -0.3500000 | -0.600 | -0.2000000 | 0.5 | -0.1875 | 0.0 | 0.1875 |  593 |\n",
       "| http://mashable.com/2013/01/07/ap-samsung-sponsored-tweets/    | 731 |  9 | 255 | 0.6047431 | 1 | 0.7919463 | 3 | 1 | 1 | ⋯ | 0.03333333 | 0.7 | -0.1187500 | -0.125 | -0.1000000 | 0.0 |  0.0000 | 0.5 | 0.0000 |  711 |\n",
       "| http://mashable.com/2013/01/07/apple-40-billion-app-downloads/ | 731 |  9 | 211 | 0.5751295 | 1 | 0.6638655 | 3 | 1 | 1 | ⋯ | 0.10000000 | 1.0 | -0.4666667 | -0.800 | -0.1333333 | 0.0 |  0.0000 | 0.5 | 0.0000 | 1500 |\n",
       "| ⋮ | ⋮ | ⋮ | ⋮ | ⋮ | ⋮ | ⋮ | ⋮ | ⋮ | ⋮ | ⋱ | ⋮ | ⋮ | ⋮ | ⋮ | ⋮ | ⋮ | ⋮ | ⋮ | ⋮ | ⋮ |\n",
       "| http://mashable.com/2014/12/27/son-pays-off-mortgage/ | 8 | 10 | 442 | 0.5163551 | 1 | 0.6441281 | 24 | 1 | 12 | ⋯ | 0.1363636 | 0.5 | -0.3564394 | -0.8 | -0.1666667 | 0.4545455 | 0.1363636 | 0.04545455 | 0.1363636 | 1900 |\n",
       "| http://mashable.com/2014/12/27/ukraine-blasts/        | 8 |  6 | 682 | 0.5394933 | 1 | 0.6926605 | 10 | 1 |  1 | ⋯ | 0.0625000 | 0.5 | -0.2052455 | -0.5 | -0.0125000 | 0.0000000 | 0.0000000 | 0.50000000 | 0.0000000 | 1100 |\n",
       "| http://mashable.com/2014/12/27/youtube-channels-2015/ | 8 | 10 | 157 | 0.7019868 | 1 | 0.8461538 |  1 | 1 |  0 | ⋯ | 0.1000000 | 0.5 | -0.2000000 | -0.2 | -0.2000000 | 0.3333333 | 0.2500000 | 0.16666667 | 0.2500000 | 1300 |\n",
       "\n"
      ],
      "text/plain": [
       "      url                                                            timedelta\n",
       "1     http://mashable.com/2013/01/07/amazon-instant-video-browser/   731      \n",
       "2     http://mashable.com/2013/01/07/ap-samsung-sponsored-tweets/    731      \n",
       "3     http://mashable.com/2013/01/07/apple-40-billion-app-downloads/ 731      \n",
       "⋮     ⋮                                                              ⋮        \n",
       "39642 http://mashable.com/2014/12/27/son-pays-off-mortgage/          8        \n",
       "39643 http://mashable.com/2014/12/27/ukraine-blasts/                 8        \n",
       "39644 http://mashable.com/2014/12/27/youtube-channels-2015/          8        \n",
       "      n_tokens_title n_tokens_content n_unique_tokens n_non_stop_words\n",
       "1     12             219              0.6635945       1               \n",
       "2      9             255              0.6047431       1               \n",
       "3      9             211              0.5751295       1               \n",
       "⋮     ⋮              ⋮                ⋮               ⋮               \n",
       "39642 10             442              0.5163551       1               \n",
       "39643  6             682              0.5394933       1               \n",
       "39644 10             157              0.7019868       1               \n",
       "      n_non_stop_unique_tokens num_hrefs num_self_hrefs num_imgs ⋯\n",
       "1     0.8153846                4         2              1        ⋯\n",
       "2     0.7919463                3         1              1        ⋯\n",
       "3     0.6638655                3         1              1        ⋯\n",
       "⋮     ⋮                        ⋮         ⋮              ⋮        ⋱\n",
       "39642 0.6441281                24        1              12       ⋯\n",
       "39643 0.6926605                10        1               1       ⋯\n",
       "39644 0.8461538                 1        1               0       ⋯\n",
       "      min_positive_polarity max_positive_polarity avg_negative_polarity\n",
       "1     0.10000000            0.7                   -0.3500000           \n",
       "2     0.03333333            0.7                   -0.1187500           \n",
       "3     0.10000000            1.0                   -0.4666667           \n",
       "⋮     ⋮                     ⋮                     ⋮                    \n",
       "39642 0.1363636             0.5                   -0.3564394           \n",
       "39643 0.0625000             0.5                   -0.2052455           \n",
       "39644 0.1000000             0.5                   -0.2000000           \n",
       "      min_negative_polarity max_negative_polarity title_subjectivity\n",
       "1     -0.600                -0.2000000            0.5               \n",
       "2     -0.125                -0.1000000            0.0               \n",
       "3     -0.800                -0.1333333            0.0               \n",
       "⋮     ⋮                     ⋮                     ⋮                 \n",
       "39642 -0.8                  -0.1666667            0.4545455         \n",
       "39643 -0.5                  -0.0125000            0.0000000         \n",
       "39644 -0.2                  -0.2000000            0.3333333         \n",
       "      title_sentiment_polarity abs_title_subjectivity\n",
       "1     -0.1875                  0.0                   \n",
       "2      0.0000                  0.5                   \n",
       "3      0.0000                  0.5                   \n",
       "⋮     ⋮                        ⋮                     \n",
       "39642 0.1363636                0.04545455            \n",
       "39643 0.0000000                0.50000000            \n",
       "39644 0.2500000                0.16666667            \n",
       "      abs_title_sentiment_polarity shares\n",
       "1     0.1875                        593  \n",
       "2     0.0000                        711  \n",
       "3     0.0000                       1500  \n",
       "⋮     ⋮                            ⋮     \n",
       "39642 0.1363636                    1900  \n",
       "39643 0.0000000                    1100  \n",
       "39644 0.2500000                    1300  "
      ]
     },
     "metadata": {},
     "output_type": "display_data"
    }
   ],
   "source": [
    "# online URL for data\n",
    "url <- 'https://archive.ics.uci.edu/ml/machine-learning-databases/00332/OnlineNewsPopularity.zip'\n",
    "\n",
    "# creating temporary file to store zip file\n",
    "temp <- tempfile()\n",
    "download.file(url, temp)\n",
    "\n",
    "# unzipping and reading in the csv file of interest\n",
    "news_data <- read_csv(unz(temp, 'OnlineNewsPopularity/OnlineNewsPopularity.csv'))\n",
    "\n",
    "# saving data table to the data file created\n",
    "write_csv(news_data, 'data/news_data.csv', col_names=TRUE)\n",
    "\n",
    "# unlinking files from temporary file created earlier\n",
    "unlink(temp) \n",
    "\n",
    "news_data\n",
    "\n",
    "# DESCRIPTION\n",
    "\n",
    "# The data is relatively clean with each row containing a single observation, each column with one variable, and each cell containing only one observation. \n",
    "# The only problems are with the data channel type columns and the weekday columns. \n",
    "# These are spread out over multiple columns when they are a single variable (data channel type and weekday posted)."
   ]
  },
  {
   "cell_type": "code",
   "execution_count": 3,
   "metadata": {},
   "outputs": [
    {
     "data": {
      "text/html": [
       "<table>\n",
       "<caption>A tibble: 33510 × 49</caption>\n",
       "<thead>\n",
       "\t<tr><th scope=col>url</th><th scope=col>timedelta</th><th scope=col>n_tokens_title</th><th scope=col>n_tokens_content</th><th scope=col>n_unique_tokens</th><th scope=col>n_non_stop_words</th><th scope=col>n_non_stop_unique_tokens</th><th scope=col>num_hrefs</th><th scope=col>num_self_hrefs</th><th scope=col>num_imgs</th><th scope=col>⋯</th><th scope=col>avg_negative_polarity</th><th scope=col>min_negative_polarity</th><th scope=col>max_negative_polarity</th><th scope=col>title_subjectivity</th><th scope=col>title_sentiment_polarity</th><th scope=col>abs_title_subjectivity</th><th scope=col>abs_title_sentiment_polarity</th><th scope=col>shares</th><th scope=col>data_channel_type</th><th scope=col>weekday_posted</th></tr>\n",
       "\t<tr><th scope=col>&lt;chr&gt;</th><th scope=col>&lt;dbl&gt;</th><th scope=col>&lt;dbl&gt;</th><th scope=col>&lt;dbl&gt;</th><th scope=col>&lt;dbl&gt;</th><th scope=col>&lt;dbl&gt;</th><th scope=col>&lt;dbl&gt;</th><th scope=col>&lt;dbl&gt;</th><th scope=col>&lt;dbl&gt;</th><th scope=col>&lt;dbl&gt;</th><th scope=col>⋯</th><th scope=col>&lt;dbl&gt;</th><th scope=col>&lt;dbl&gt;</th><th scope=col>&lt;dbl&gt;</th><th scope=col>&lt;dbl&gt;</th><th scope=col>&lt;dbl&gt;</th><th scope=col>&lt;dbl&gt;</th><th scope=col>&lt;dbl&gt;</th><th scope=col>&lt;dbl&gt;</th><th scope=col>&lt;fct&gt;</th><th scope=col>&lt;chr&gt;</th></tr>\n",
       "</thead>\n",
       "<tbody>\n",
       "\t<tr><td>http://mashable.com/2013/01/07/amazon-instant-video-browser/  </td><td>731</td><td>12</td><td>219</td><td>0.6635945</td><td>1</td><td>0.8153846</td><td>4</td><td>2</td><td>1</td><td>⋯</td><td>-0.3500000</td><td>-0.600</td><td>-0.2000000</td><td>0.5</td><td>-0.1875</td><td>0.0</td><td>0.1875</td><td> 593</td><td>data_channel_is_entertainment</td><td>weekday_is_monday</td></tr>\n",
       "\t<tr><td>http://mashable.com/2013/01/07/ap-samsung-sponsored-tweets/   </td><td>731</td><td> 9</td><td>255</td><td>0.6047431</td><td>1</td><td>0.7919463</td><td>3</td><td>1</td><td>1</td><td>⋯</td><td>-0.1187500</td><td>-0.125</td><td>-0.1000000</td><td>0.0</td><td> 0.0000</td><td>0.5</td><td>0.0000</td><td> 711</td><td>data_channel_is_bus          </td><td>weekday_is_monday</td></tr>\n",
       "\t<tr><td>http://mashable.com/2013/01/07/apple-40-billion-app-downloads/</td><td>731</td><td> 9</td><td>211</td><td>0.5751295</td><td>1</td><td>0.6638655</td><td>3</td><td>1</td><td>1</td><td>⋯</td><td>-0.4666667</td><td>-0.800</td><td>-0.1333333</td><td>0.0</td><td> 0.0000</td><td>0.5</td><td>0.0000</td><td>1500</td><td>data_channel_is_bus          </td><td>weekday_is_monday</td></tr>\n",
       "\t<tr><td>⋮</td><td>⋮</td><td>⋮</td><td>⋮</td><td>⋮</td><td>⋮</td><td>⋮</td><td>⋮</td><td>⋮</td><td>⋮</td><td>⋱</td><td>⋮</td><td>⋮</td><td>⋮</td><td>⋮</td><td>⋮</td><td>⋮</td><td>⋮</td><td>⋮</td><td>⋮</td><td>⋮</td></tr>\n",
       "\t<tr><td>http://mashable.com/2014/12/27/seth-rogen-james-franco-will-live-tweet-the-interview/</td><td>8</td><td>12</td><td>328</td><td>0.6962963</td><td>1</td><td>0.8850575</td><td> 9</td><td>7</td><td>3</td><td>⋯</td><td>-0.2111111</td><td>-0.4</td><td>-0.1000</td><td>0.3000000</td><td>1.00</td><td>0.2000000</td><td>1.00</td><td>1900</td><td>data_channel_is_socmed       </td><td>weekday_is_wednesday</td></tr>\n",
       "\t<tr><td>http://mashable.com/2014/12/27/ukraine-blasts/                                       </td><td>8</td><td> 6</td><td>682</td><td>0.5394933</td><td>1</td><td>0.6926605</td><td>10</td><td>1</td><td>1</td><td>⋯</td><td>-0.2052455</td><td>-0.5</td><td>-0.0125</td><td>0.0000000</td><td>0.00</td><td>0.5000000</td><td>0.00</td><td>1100</td><td>data_channel_is_world        </td><td>weekday_is_wednesday</td></tr>\n",
       "\t<tr><td>http://mashable.com/2014/12/27/youtube-channels-2015/                                </td><td>8</td><td>10</td><td>157</td><td>0.7019868</td><td>1</td><td>0.8461538</td><td> 1</td><td>1</td><td>0</td><td>⋯</td><td>-0.2000000</td><td>-0.2</td><td>-0.2000</td><td>0.3333333</td><td>0.25</td><td>0.1666667</td><td>0.25</td><td>1300</td><td>data_channel_is_entertainment</td><td>weekday_is_wednesday</td></tr>\n",
       "</tbody>\n",
       "</table>\n"
      ],
      "text/latex": [
       "A tibble: 33510 × 49\n",
       "\\begin{tabular}{lllllllllllllllllllll}\n",
       " url & timedelta & n\\_tokens\\_title & n\\_tokens\\_content & n\\_unique\\_tokens & n\\_non\\_stop\\_words & n\\_non\\_stop\\_unique\\_tokens & num\\_hrefs & num\\_self\\_hrefs & num\\_imgs & ⋯ & avg\\_negative\\_polarity & min\\_negative\\_polarity & max\\_negative\\_polarity & title\\_subjectivity & title\\_sentiment\\_polarity & abs\\_title\\_subjectivity & abs\\_title\\_sentiment\\_polarity & shares & data\\_channel\\_type & weekday\\_posted\\\\\n",
       " <chr> & <dbl> & <dbl> & <dbl> & <dbl> & <dbl> & <dbl> & <dbl> & <dbl> & <dbl> & ⋯ & <dbl> & <dbl> & <dbl> & <dbl> & <dbl> & <dbl> & <dbl> & <dbl> & <fct> & <chr>\\\\\n",
       "\\hline\n",
       "\t http://mashable.com/2013/01/07/amazon-instant-video-browser/   & 731 & 12 & 219 & 0.6635945 & 1 & 0.8153846 & 4 & 2 & 1 & ⋯ & -0.3500000 & -0.600 & -0.2000000 & 0.5 & -0.1875 & 0.0 & 0.1875 &  593 & data\\_channel\\_is\\_entertainment & weekday\\_is\\_monday\\\\\n",
       "\t http://mashable.com/2013/01/07/ap-samsung-sponsored-tweets/    & 731 &  9 & 255 & 0.6047431 & 1 & 0.7919463 & 3 & 1 & 1 & ⋯ & -0.1187500 & -0.125 & -0.1000000 & 0.0 &  0.0000 & 0.5 & 0.0000 &  711 & data\\_channel\\_is\\_bus           & weekday\\_is\\_monday\\\\\n",
       "\t http://mashable.com/2013/01/07/apple-40-billion-app-downloads/ & 731 &  9 & 211 & 0.5751295 & 1 & 0.6638655 & 3 & 1 & 1 & ⋯ & -0.4666667 & -0.800 & -0.1333333 & 0.0 &  0.0000 & 0.5 & 0.0000 & 1500 & data\\_channel\\_is\\_bus           & weekday\\_is\\_monday\\\\\n",
       "\t ⋮ & ⋮ & ⋮ & ⋮ & ⋮ & ⋮ & ⋮ & ⋮ & ⋮ & ⋮ & ⋱ & ⋮ & ⋮ & ⋮ & ⋮ & ⋮ & ⋮ & ⋮ & ⋮ & ⋮ & ⋮\\\\\n",
       "\t http://mashable.com/2014/12/27/seth-rogen-james-franco-will-live-tweet-the-interview/ & 8 & 12 & 328 & 0.6962963 & 1 & 0.8850575 &  9 & 7 & 3 & ⋯ & -0.2111111 & -0.4 & -0.1000 & 0.3000000 & 1.00 & 0.2000000 & 1.00 & 1900 & data\\_channel\\_is\\_socmed        & weekday\\_is\\_wednesday\\\\\n",
       "\t http://mashable.com/2014/12/27/ukraine-blasts/                                        & 8 &  6 & 682 & 0.5394933 & 1 & 0.6926605 & 10 & 1 & 1 & ⋯ & -0.2052455 & -0.5 & -0.0125 & 0.0000000 & 0.00 & 0.5000000 & 0.00 & 1100 & data\\_channel\\_is\\_world         & weekday\\_is\\_wednesday\\\\\n",
       "\t http://mashable.com/2014/12/27/youtube-channels-2015/                                 & 8 & 10 & 157 & 0.7019868 & 1 & 0.8461538 &  1 & 1 & 0 & ⋯ & -0.2000000 & -0.2 & -0.2000 & 0.3333333 & 0.25 & 0.1666667 & 0.25 & 1300 & data\\_channel\\_is\\_entertainment & weekday\\_is\\_wednesday\\\\\n",
       "\\end{tabular}\n"
      ],
      "text/markdown": [
       "\n",
       "A tibble: 33510 × 49\n",
       "\n",
       "| url &lt;chr&gt; | timedelta &lt;dbl&gt; | n_tokens_title &lt;dbl&gt; | n_tokens_content &lt;dbl&gt; | n_unique_tokens &lt;dbl&gt; | n_non_stop_words &lt;dbl&gt; | n_non_stop_unique_tokens &lt;dbl&gt; | num_hrefs &lt;dbl&gt; | num_self_hrefs &lt;dbl&gt; | num_imgs &lt;dbl&gt; | ⋯ ⋯ | avg_negative_polarity &lt;dbl&gt; | min_negative_polarity &lt;dbl&gt; | max_negative_polarity &lt;dbl&gt; | title_subjectivity &lt;dbl&gt; | title_sentiment_polarity &lt;dbl&gt; | abs_title_subjectivity &lt;dbl&gt; | abs_title_sentiment_polarity &lt;dbl&gt; | shares &lt;dbl&gt; | data_channel_type &lt;fct&gt; | weekday_posted &lt;chr&gt; |\n",
       "|---|---|---|---|---|---|---|---|---|---|---|---|---|---|---|---|---|---|---|---|---|\n",
       "| http://mashable.com/2013/01/07/amazon-instant-video-browser/   | 731 | 12 | 219 | 0.6635945 | 1 | 0.8153846 | 4 | 2 | 1 | ⋯ | -0.3500000 | -0.600 | -0.2000000 | 0.5 | -0.1875 | 0.0 | 0.1875 |  593 | data_channel_is_entertainment | weekday_is_monday |\n",
       "| http://mashable.com/2013/01/07/ap-samsung-sponsored-tweets/    | 731 |  9 | 255 | 0.6047431 | 1 | 0.7919463 | 3 | 1 | 1 | ⋯ | -0.1187500 | -0.125 | -0.1000000 | 0.0 |  0.0000 | 0.5 | 0.0000 |  711 | data_channel_is_bus           | weekday_is_monday |\n",
       "| http://mashable.com/2013/01/07/apple-40-billion-app-downloads/ | 731 |  9 | 211 | 0.5751295 | 1 | 0.6638655 | 3 | 1 | 1 | ⋯ | -0.4666667 | -0.800 | -0.1333333 | 0.0 |  0.0000 | 0.5 | 0.0000 | 1500 | data_channel_is_bus           | weekday_is_monday |\n",
       "| ⋮ | ⋮ | ⋮ | ⋮ | ⋮ | ⋮ | ⋮ | ⋮ | ⋮ | ⋮ | ⋱ | ⋮ | ⋮ | ⋮ | ⋮ | ⋮ | ⋮ | ⋮ | ⋮ | ⋮ | ⋮ |\n",
       "| http://mashable.com/2014/12/27/seth-rogen-james-franco-will-live-tweet-the-interview/ | 8 | 12 | 328 | 0.6962963 | 1 | 0.8850575 |  9 | 7 | 3 | ⋯ | -0.2111111 | -0.4 | -0.1000 | 0.3000000 | 1.00 | 0.2000000 | 1.00 | 1900 | data_channel_is_socmed        | weekday_is_wednesday |\n",
       "| http://mashable.com/2014/12/27/ukraine-blasts/                                        | 8 |  6 | 682 | 0.5394933 | 1 | 0.6926605 | 10 | 1 | 1 | ⋯ | -0.2052455 | -0.5 | -0.0125 | 0.0000000 | 0.00 | 0.5000000 | 0.00 | 1100 | data_channel_is_world         | weekday_is_wednesday |\n",
       "| http://mashable.com/2014/12/27/youtube-channels-2015/                                 | 8 | 10 | 157 | 0.7019868 | 1 | 0.8461538 |  1 | 1 | 0 | ⋯ | -0.2000000 | -0.2 | -0.2000 | 0.3333333 | 0.25 | 0.1666667 | 0.25 | 1300 | data_channel_is_entertainment | weekday_is_wednesday |\n",
       "\n"
      ],
      "text/plain": [
       "      url                                                                                  \n",
       "1     http://mashable.com/2013/01/07/amazon-instant-video-browser/                         \n",
       "2     http://mashable.com/2013/01/07/ap-samsung-sponsored-tweets/                          \n",
       "3     http://mashable.com/2013/01/07/apple-40-billion-app-downloads/                       \n",
       "⋮     ⋮                                                                                    \n",
       "33508 http://mashable.com/2014/12/27/seth-rogen-james-franco-will-live-tweet-the-interview/\n",
       "33509 http://mashable.com/2014/12/27/ukraine-blasts/                                       \n",
       "33510 http://mashable.com/2014/12/27/youtube-channels-2015/                                \n",
       "      timedelta n_tokens_title n_tokens_content n_unique_tokens\n",
       "1     731       12             219              0.6635945      \n",
       "2     731        9             255              0.6047431      \n",
       "3     731        9             211              0.5751295      \n",
       "⋮     ⋮         ⋮              ⋮                ⋮              \n",
       "33508 8         12             328              0.6962963      \n",
       "33509 8          6             682              0.5394933      \n",
       "33510 8         10             157              0.7019868      \n",
       "      n_non_stop_words n_non_stop_unique_tokens num_hrefs num_self_hrefs\n",
       "1     1                0.8153846                4         2             \n",
       "2     1                0.7919463                3         1             \n",
       "3     1                0.6638655                3         1             \n",
       "⋮     ⋮                ⋮                        ⋮         ⋮             \n",
       "33508 1                0.8850575                 9        7             \n",
       "33509 1                0.6926605                10        1             \n",
       "33510 1                0.8461538                 1        1             \n",
       "      num_imgs ⋯ avg_negative_polarity min_negative_polarity\n",
       "1     1        ⋯ -0.3500000            -0.600               \n",
       "2     1        ⋯ -0.1187500            -0.125               \n",
       "3     1        ⋯ -0.4666667            -0.800               \n",
       "⋮     ⋮        ⋱ ⋮                     ⋮                    \n",
       "33508 3        ⋯ -0.2111111            -0.4                 \n",
       "33509 1        ⋯ -0.2052455            -0.5                 \n",
       "33510 0        ⋯ -0.2000000            -0.2                 \n",
       "      max_negative_polarity title_subjectivity title_sentiment_polarity\n",
       "1     -0.2000000            0.5                -0.1875                 \n",
       "2     -0.1000000            0.0                 0.0000                 \n",
       "3     -0.1333333            0.0                 0.0000                 \n",
       "⋮     ⋮                     ⋮                  ⋮                       \n",
       "33508 -0.1000               0.3000000          1.00                    \n",
       "33509 -0.0125               0.0000000          0.00                    \n",
       "33510 -0.2000               0.3333333          0.25                    \n",
       "      abs_title_subjectivity abs_title_sentiment_polarity shares\n",
       "1     0.0                    0.1875                        593  \n",
       "2     0.5                    0.0000                        711  \n",
       "3     0.5                    0.0000                       1500  \n",
       "⋮     ⋮                      ⋮                            ⋮     \n",
       "33508 0.2000000              1.00                         1900  \n",
       "33509 0.5000000              0.00                         1100  \n",
       "33510 0.1666667              0.25                         1300  \n",
       "      data_channel_type             weekday_posted      \n",
       "1     data_channel_is_entertainment weekday_is_monday   \n",
       "2     data_channel_is_bus           weekday_is_monday   \n",
       "3     data_channel_is_bus           weekday_is_monday   \n",
       "⋮     ⋮                             ⋮                   \n",
       "33508 data_channel_is_socmed        weekday_is_wednesday\n",
       "33509 data_channel_is_world         weekday_is_wednesday\n",
       "33510 data_channel_is_entertainment weekday_is_wednesday"
      ]
     },
     "metadata": {},
     "output_type": "display_data"
    }
   ],
   "source": [
    "# making the data channel type a single variable and removing the column of 1s and 0s as it does not make any sense after\n",
    "# pivot longer is applied\n",
    "\n",
    "clean_news_data <- news_data %>%\n",
    "    pivot_longer(cols = c(data_channel_is_lifestyle,\n",
    "                data_channel_is_entertainment,\n",
    "                data_channel_is_bus,\n",
    "                data_channel_is_socmed,\n",
    "                data_channel_is_tech,\n",
    "                data_channel_is_world), \n",
    "                names_to = 'data_channel_type',\n",
    "                values_to = 'na1') %>%\n",
    "\n",
    "# applying the same technique as above to the weekday columns by making weekday_posted a single column with\n",
    "# the 1s and 0s column removed\n",
    "\n",
    "    pivot_longer(cols = c(weekday_is_monday,\n",
    "                         weekday_is_tuesday,\n",
    "                         weekday_is_wednesday,\n",
    "                         weekday_is_thursday,\n",
    "                         weekday_is_friday,\n",
    "                         weekday_is_saturday,\n",
    "                         weekday_is_sunday),\n",
    "                names_to = 'weekday_posted',\n",
    "                values_to = 'na2') %>%\n",
    "\n",
    "# now we need to get rid of all of the redundant zeros that remain from the pivot longer function, \n",
    "# we only care about what the data channel type and week day posted are for each article, we do not need to know what \n",
    "# they are not (this is what the 0s are trying to convey)\n",
    "\n",
    "    filter(na1==1 & na2==1) %>%\n",
    "\n",
    "# data channel type is our class so we want it as a factor not a character\n",
    "\n",
    "    mutate(data_channel_type = as_factor(data_channel_type)) %>%\n",
    "    select(-na1, -na2, -is_weekend)\n",
    "\n",
    "# there is a column named is_weekend which is redundant as we already have a the weekday_posted column \n",
    "# that tells us whether each article was posted on saturday or sunday, so after applying the pivot longer\n",
    "# function, the is_weekend column does not make any sense in the data as it has 1s and 0s indicating which article\n",
    "# was posted on a weekend. Therefore, it is removed\n",
    "\n",
    "write_csv(clean_news_data, 'data/clean_news.csv', col_names=TRUE)\n",
    "\n",
    "clean_news_data"
   ]
  },
  {
   "cell_type": "code",
   "execution_count": 4,
   "metadata": {},
   "outputs": [],
   "source": [
    "# splitting data into training and testing data using a 75/25 split with 75% training data. The data set is very large,\n",
    "# so it allows us to develop the classifier on a large chunk of training data without compromising for the size of our \n",
    "# testing data since 25% of the data is still thousands of observations. Therefore a 75/25 split is suitable\n",
    "\n",
    "set.seed(1)\n",
    "\n",
    "news_split <- initial_split(clean_news_data, prop=0.75, strata=data_channel_type)\n",
    "news_training <- training(news_split)\n",
    "news_testing <- testing(news_split)"
   ]
  },
  {
   "cell_type": "code",
   "execution_count": 5,
   "metadata": {},
   "outputs": [
    {
     "name": "stderr",
     "output_type": "stream",
     "text": [
      "`summarise()` ungrouping output (override with `.groups` argument)\n",
      "\n"
     ]
    },
    {
     "data": {
      "text/html": [
       "<table>\n",
       "<caption>A tibble: 6 × 2</caption>\n",
       "<thead>\n",
       "\t<tr><th scope=col>data_channel_type</th><th scope=col>n</th></tr>\n",
       "\t<tr><th scope=col>&lt;fct&gt;</th><th scope=col>&lt;int&gt;</th></tr>\n",
       "</thead>\n",
       "<tbody>\n",
       "\t<tr><td>data_channel_is_entertainment</td><td>5301</td></tr>\n",
       "\t<tr><td>data_channel_is_bus          </td><td>4703</td></tr>\n",
       "\t<tr><td>data_channel_is_tech         </td><td>5511</td></tr>\n",
       "\t<tr><td>data_channel_is_lifestyle    </td><td>1554</td></tr>\n",
       "\t<tr><td>data_channel_is_world        </td><td>6341</td></tr>\n",
       "\t<tr><td>data_channel_is_socmed       </td><td>1725</td></tr>\n",
       "</tbody>\n",
       "</table>\n"
      ],
      "text/latex": [
       "A tibble: 6 × 2\n",
       "\\begin{tabular}{ll}\n",
       " data\\_channel\\_type & n\\\\\n",
       " <fct> & <int>\\\\\n",
       "\\hline\n",
       "\t data\\_channel\\_is\\_entertainment & 5301\\\\\n",
       "\t data\\_channel\\_is\\_bus           & 4703\\\\\n",
       "\t data\\_channel\\_is\\_tech          & 5511\\\\\n",
       "\t data\\_channel\\_is\\_lifestyle     & 1554\\\\\n",
       "\t data\\_channel\\_is\\_world         & 6341\\\\\n",
       "\t data\\_channel\\_is\\_socmed        & 1725\\\\\n",
       "\\end{tabular}\n"
      ],
      "text/markdown": [
       "\n",
       "A tibble: 6 × 2\n",
       "\n",
       "| data_channel_type &lt;fct&gt; | n &lt;int&gt; |\n",
       "|---|---|\n",
       "| data_channel_is_entertainment | 5301 |\n",
       "| data_channel_is_bus           | 4703 |\n",
       "| data_channel_is_tech          | 5511 |\n",
       "| data_channel_is_lifestyle     | 1554 |\n",
       "| data_channel_is_world         | 6341 |\n",
       "| data_channel_is_socmed        | 1725 |\n",
       "\n"
      ],
      "text/plain": [
       "  data_channel_type             n   \n",
       "1 data_channel_is_entertainment 5301\n",
       "2 data_channel_is_bus           4703\n",
       "3 data_channel_is_tech          5511\n",
       "4 data_channel_is_lifestyle     1554\n",
       "5 data_channel_is_world         6341\n",
       "6 data_channel_is_socmed        1725"
      ]
     },
     "metadata": {},
     "output_type": "display_data"
    }
   ],
   "source": [
    "num_obs <- news_training %>%\n",
    "    group_by(data_channel_type) %>%\n",
    "    summarize(n=n())\n",
    "num_obs\n",
    "\n",
    "# DESCRIPTION\n",
    "\n",
    "# This table is useful as it shows there is a class imbalance since the social media and lifestyle category have less observations. \n",
    "# Therefore, we will need to oversample these cases when developing our classifier to account for this disparity."
   ]
  },
  {
   "cell_type": "code",
   "execution_count": 6,
   "metadata": {},
   "outputs": [
    {
     "data": {
      "text/html": [
       "<table>\n",
       "<caption>A tibble: 1 × 2</caption>\n",
       "<thead>\n",
       "\t<tr><th scope=col>global_rate_positive_words</th><th scope=col>global_rate_negative_words</th></tr>\n",
       "\t<tr><th scope=col>&lt;dbl&gt;</th><th scope=col>&lt;dbl&gt;</th></tr>\n",
       "</thead>\n",
       "<tbody>\n",
       "\t<tr><td>0.0398897</td><td>0.01628709</td></tr>\n",
       "</tbody>\n",
       "</table>\n"
      ],
      "text/latex": [
       "A tibble: 1 × 2\n",
       "\\begin{tabular}{ll}\n",
       " global\\_rate\\_positive\\_words & global\\_rate\\_negative\\_words\\\\\n",
       " <dbl> & <dbl>\\\\\n",
       "\\hline\n",
       "\t 0.0398897 & 0.01628709\\\\\n",
       "\\end{tabular}\n"
      ],
      "text/markdown": [
       "\n",
       "A tibble: 1 × 2\n",
       "\n",
       "| global_rate_positive_words &lt;dbl&gt; | global_rate_negative_words &lt;dbl&gt; |\n",
       "|---|---|\n",
       "| 0.0398897 | 0.01628709 |\n",
       "\n"
      ],
      "text/plain": [
       "  global_rate_positive_words global_rate_negative_words\n",
       "1 0.0398897                  0.01628709                "
      ]
     },
     "metadata": {},
     "output_type": "display_data"
    }
   ],
   "source": [
    "predictors_avg <- news_training %>%\n",
    "    select(global_rate_positive_words, global_rate_negative_words) %>%\n",
    "    map_df(mean)\n",
    "predictors_avg\n",
    "\n",
    "# DESCRIPTION\n",
    "\n",
    "# This table shows the average for the predictors we are using among all of the observations. \n",
    "# This is important information as it lets us know whether there is a drastic enough difference between the rates of positive and negative words \n",
    "# to make our classifier useful. There is quite a large difference, so our classifier should yield interesting results."
   ]
  },
  {
   "cell_type": "code",
   "execution_count": 7,
   "metadata": {},
   "outputs": [
    {
     "data": {
      "text/html": [
       "<table>\n",
       "<caption>A tibble: 397 × 49</caption>\n",
       "<thead>\n",
       "\t<tr><th scope=col>url</th><th scope=col>timedelta</th><th scope=col>n_tokens_title</th><th scope=col>n_tokens_content</th><th scope=col>n_unique_tokens</th><th scope=col>n_non_stop_words</th><th scope=col>n_non_stop_unique_tokens</th><th scope=col>num_hrefs</th><th scope=col>num_self_hrefs</th><th scope=col>num_imgs</th><th scope=col>⋯</th><th scope=col>avg_negative_polarity</th><th scope=col>min_negative_polarity</th><th scope=col>max_negative_polarity</th><th scope=col>title_subjectivity</th><th scope=col>title_sentiment_polarity</th><th scope=col>abs_title_subjectivity</th><th scope=col>abs_title_sentiment_polarity</th><th scope=col>shares</th><th scope=col>data_channel_type</th><th scope=col>weekday_posted</th></tr>\n",
       "\t<tr><th scope=col>&lt;chr&gt;</th><th scope=col>&lt;dbl&gt;</th><th scope=col>&lt;dbl&gt;</th><th scope=col>&lt;dbl&gt;</th><th scope=col>&lt;dbl&gt;</th><th scope=col>&lt;dbl&gt;</th><th scope=col>&lt;dbl&gt;</th><th scope=col>&lt;dbl&gt;</th><th scope=col>&lt;dbl&gt;</th><th scope=col>&lt;dbl&gt;</th><th scope=col>⋯</th><th scope=col>&lt;dbl&gt;</th><th scope=col>&lt;dbl&gt;</th><th scope=col>&lt;dbl&gt;</th><th scope=col>&lt;dbl&gt;</th><th scope=col>&lt;dbl&gt;</th><th scope=col>&lt;dbl&gt;</th><th scope=col>&lt;dbl&gt;</th><th scope=col>&lt;dbl&gt;</th><th scope=col>&lt;fct&gt;</th><th scope=col>&lt;chr&gt;</th></tr>\n",
       "</thead>\n",
       "<tbody>\n",
       "\t<tr><td>http://mashable.com/2013/01/23/fitness-gadget-gym-cost-comparison/</td><td>715</td><td> 8</td><td>0</td><td>0</td><td>0</td><td>0</td><td>0</td><td>0</td><td>0</td><td>⋯</td><td>0</td><td>0</td><td>0</td><td>0.00000000</td><td>0.00000000</td><td>0.5000000</td><td>0.00000000</td><td>1700</td><td>data_channel_is_lifestyle</td><td>weekday_is_wednesday</td></tr>\n",
       "\t<tr><td>http://mashable.com/2013/01/25/data-vs-nature-infographic/        </td><td>713</td><td>12</td><td>0</td><td>0</td><td>0</td><td>0</td><td>0</td><td>0</td><td>0</td><td>⋯</td><td>0</td><td>0</td><td>0</td><td>0.00000000</td><td>0.00000000</td><td>0.5000000</td><td>0.00000000</td><td>4500</td><td>data_channel_is_tech     </td><td>weekday_is_friday   </td></tr>\n",
       "\t<tr><td>http://mashable.com/2013/01/26/infographics-marketing/            </td><td>712</td><td>10</td><td>0</td><td>0</td><td>0</td><td>0</td><td>0</td><td>0</td><td>0</td><td>⋯</td><td>0</td><td>0</td><td>0</td><td>0.06666667</td><td>0.03333333</td><td>0.4333333</td><td>0.03333333</td><td>6800</td><td>data_channel_is_bus      </td><td>weekday_is_saturday </td></tr>\n",
       "\t<tr><td>⋮</td><td>⋮</td><td>⋮</td><td>⋮</td><td>⋮</td><td>⋮</td><td>⋮</td><td>⋮</td><td>⋮</td><td>⋮</td><td>⋱</td><td>⋮</td><td>⋮</td><td>⋮</td><td>⋮</td><td>⋮</td><td>⋮</td><td>⋮</td><td>⋮</td><td>⋮</td><td>⋮</td></tr>\n",
       "\t<tr><td>http://mashable.com/2014/12/24/live-updates-antonio-martin-vigil/</td><td>11</td><td>10</td><td>0</td><td>0</td><td>0</td><td>0</td><td>0</td><td>0</td><td>10</td><td>⋯</td><td>0</td><td>0</td><td>0</td><td>0.5000000</td><td>0.5000000</td><td>0.00000000</td><td>0.5000000</td><td>1800</td><td>data_channel_is_lifestyle</td><td>weekday_is_sunday </td></tr>\n",
       "\t<tr><td>http://mashable.com/2014/12/24/loyal-dog-chases-after-ambulance/ </td><td>11</td><td> 7</td><td>0</td><td>0</td><td>0</td><td>0</td><td>0</td><td>0</td><td>13</td><td>⋯</td><td>0</td><td>0</td><td>0</td><td>0.0000000</td><td>0.0000000</td><td>0.50000000</td><td>0.0000000</td><td>1600</td><td>data_channel_is_world    </td><td>weekday_is_sunday </td></tr>\n",
       "\t<tr><td>http://mashable.com/2014/12/26/toothpaste-fluorine-space/        </td><td> 9</td><td>11</td><td>0</td><td>0</td><td>0</td><td>0</td><td>0</td><td>0</td><td>21</td><td>⋯</td><td>0</td><td>0</td><td>0</td><td>0.4545455</td><td>0.1363636</td><td>0.04545455</td><td>0.1363636</td><td>5700</td><td>data_channel_is_world    </td><td>weekday_is_tuesday</td></tr>\n",
       "</tbody>\n",
       "</table>\n"
      ],
      "text/latex": [
       "A tibble: 397 × 49\n",
       "\\begin{tabular}{lllllllllllllllllllll}\n",
       " url & timedelta & n\\_tokens\\_title & n\\_tokens\\_content & n\\_unique\\_tokens & n\\_non\\_stop\\_words & n\\_non\\_stop\\_unique\\_tokens & num\\_hrefs & num\\_self\\_hrefs & num\\_imgs & ⋯ & avg\\_negative\\_polarity & min\\_negative\\_polarity & max\\_negative\\_polarity & title\\_subjectivity & title\\_sentiment\\_polarity & abs\\_title\\_subjectivity & abs\\_title\\_sentiment\\_polarity & shares & data\\_channel\\_type & weekday\\_posted\\\\\n",
       " <chr> & <dbl> & <dbl> & <dbl> & <dbl> & <dbl> & <dbl> & <dbl> & <dbl> & <dbl> & ⋯ & <dbl> & <dbl> & <dbl> & <dbl> & <dbl> & <dbl> & <dbl> & <dbl> & <fct> & <chr>\\\\\n",
       "\\hline\n",
       "\t http://mashable.com/2013/01/23/fitness-gadget-gym-cost-comparison/ & 715 &  8 & 0 & 0 & 0 & 0 & 0 & 0 & 0 & ⋯ & 0 & 0 & 0 & 0.00000000 & 0.00000000 & 0.5000000 & 0.00000000 & 1700 & data\\_channel\\_is\\_lifestyle & weekday\\_is\\_wednesday\\\\\n",
       "\t http://mashable.com/2013/01/25/data-vs-nature-infographic/         & 713 & 12 & 0 & 0 & 0 & 0 & 0 & 0 & 0 & ⋯ & 0 & 0 & 0 & 0.00000000 & 0.00000000 & 0.5000000 & 0.00000000 & 4500 & data\\_channel\\_is\\_tech      & weekday\\_is\\_friday   \\\\\n",
       "\t http://mashable.com/2013/01/26/infographics-marketing/             & 712 & 10 & 0 & 0 & 0 & 0 & 0 & 0 & 0 & ⋯ & 0 & 0 & 0 & 0.06666667 & 0.03333333 & 0.4333333 & 0.03333333 & 6800 & data\\_channel\\_is\\_bus       & weekday\\_is\\_saturday \\\\\n",
       "\t ⋮ & ⋮ & ⋮ & ⋮ & ⋮ & ⋮ & ⋮ & ⋮ & ⋮ & ⋮ & ⋱ & ⋮ & ⋮ & ⋮ & ⋮ & ⋮ & ⋮ & ⋮ & ⋮ & ⋮ & ⋮\\\\\n",
       "\t http://mashable.com/2014/12/24/live-updates-antonio-martin-vigil/ & 11 & 10 & 0 & 0 & 0 & 0 & 0 & 0 & 10 & ⋯ & 0 & 0 & 0 & 0.5000000 & 0.5000000 & 0.00000000 & 0.5000000 & 1800 & data\\_channel\\_is\\_lifestyle & weekday\\_is\\_sunday \\\\\n",
       "\t http://mashable.com/2014/12/24/loyal-dog-chases-after-ambulance/  & 11 &  7 & 0 & 0 & 0 & 0 & 0 & 0 & 13 & ⋯ & 0 & 0 & 0 & 0.0000000 & 0.0000000 & 0.50000000 & 0.0000000 & 1600 & data\\_channel\\_is\\_world     & weekday\\_is\\_sunday \\\\\n",
       "\t http://mashable.com/2014/12/26/toothpaste-fluorine-space/         &  9 & 11 & 0 & 0 & 0 & 0 & 0 & 0 & 21 & ⋯ & 0 & 0 & 0 & 0.4545455 & 0.1363636 & 0.04545455 & 0.1363636 & 5700 & data\\_channel\\_is\\_world     & weekday\\_is\\_tuesday\\\\\n",
       "\\end{tabular}\n"
      ],
      "text/markdown": [
       "\n",
       "A tibble: 397 × 49\n",
       "\n",
       "| url &lt;chr&gt; | timedelta &lt;dbl&gt; | n_tokens_title &lt;dbl&gt; | n_tokens_content &lt;dbl&gt; | n_unique_tokens &lt;dbl&gt; | n_non_stop_words &lt;dbl&gt; | n_non_stop_unique_tokens &lt;dbl&gt; | num_hrefs &lt;dbl&gt; | num_self_hrefs &lt;dbl&gt; | num_imgs &lt;dbl&gt; | ⋯ ⋯ | avg_negative_polarity &lt;dbl&gt; | min_negative_polarity &lt;dbl&gt; | max_negative_polarity &lt;dbl&gt; | title_subjectivity &lt;dbl&gt; | title_sentiment_polarity &lt;dbl&gt; | abs_title_subjectivity &lt;dbl&gt; | abs_title_sentiment_polarity &lt;dbl&gt; | shares &lt;dbl&gt; | data_channel_type &lt;fct&gt; | weekday_posted &lt;chr&gt; |\n",
       "|---|---|---|---|---|---|---|---|---|---|---|---|---|---|---|---|---|---|---|---|---|\n",
       "| http://mashable.com/2013/01/23/fitness-gadget-gym-cost-comparison/ | 715 |  8 | 0 | 0 | 0 | 0 | 0 | 0 | 0 | ⋯ | 0 | 0 | 0 | 0.00000000 | 0.00000000 | 0.5000000 | 0.00000000 | 1700 | data_channel_is_lifestyle | weekday_is_wednesday |\n",
       "| http://mashable.com/2013/01/25/data-vs-nature-infographic/         | 713 | 12 | 0 | 0 | 0 | 0 | 0 | 0 | 0 | ⋯ | 0 | 0 | 0 | 0.00000000 | 0.00000000 | 0.5000000 | 0.00000000 | 4500 | data_channel_is_tech      | weekday_is_friday    |\n",
       "| http://mashable.com/2013/01/26/infographics-marketing/             | 712 | 10 | 0 | 0 | 0 | 0 | 0 | 0 | 0 | ⋯ | 0 | 0 | 0 | 0.06666667 | 0.03333333 | 0.4333333 | 0.03333333 | 6800 | data_channel_is_bus       | weekday_is_saturday  |\n",
       "| ⋮ | ⋮ | ⋮ | ⋮ | ⋮ | ⋮ | ⋮ | ⋮ | ⋮ | ⋮ | ⋱ | ⋮ | ⋮ | ⋮ | ⋮ | ⋮ | ⋮ | ⋮ | ⋮ | ⋮ | ⋮ |\n",
       "| http://mashable.com/2014/12/24/live-updates-antonio-martin-vigil/ | 11 | 10 | 0 | 0 | 0 | 0 | 0 | 0 | 10 | ⋯ | 0 | 0 | 0 | 0.5000000 | 0.5000000 | 0.00000000 | 0.5000000 | 1800 | data_channel_is_lifestyle | weekday_is_sunday  |\n",
       "| http://mashable.com/2014/12/24/loyal-dog-chases-after-ambulance/  | 11 |  7 | 0 | 0 | 0 | 0 | 0 | 0 | 13 | ⋯ | 0 | 0 | 0 | 0.0000000 | 0.0000000 | 0.50000000 | 0.0000000 | 1600 | data_channel_is_world     | weekday_is_sunday  |\n",
       "| http://mashable.com/2014/12/26/toothpaste-fluorine-space/         |  9 | 11 | 0 | 0 | 0 | 0 | 0 | 0 | 21 | ⋯ | 0 | 0 | 0 | 0.4545455 | 0.1363636 | 0.04545455 | 0.1363636 | 5700 | data_channel_is_world     | weekday_is_tuesday |\n",
       "\n"
      ],
      "text/plain": [
       "    url                                                               \n",
       "1   http://mashable.com/2013/01/23/fitness-gadget-gym-cost-comparison/\n",
       "2   http://mashable.com/2013/01/25/data-vs-nature-infographic/        \n",
       "3   http://mashable.com/2013/01/26/infographics-marketing/            \n",
       "⋮   ⋮                                                                 \n",
       "395 http://mashable.com/2014/12/24/live-updates-antonio-martin-vigil/ \n",
       "396 http://mashable.com/2014/12/24/loyal-dog-chases-after-ambulance/  \n",
       "397 http://mashable.com/2014/12/26/toothpaste-fluorine-space/         \n",
       "    timedelta n_tokens_title n_tokens_content n_unique_tokens n_non_stop_words\n",
       "1   715        8             0                0               0               \n",
       "2   713       12             0                0               0               \n",
       "3   712       10             0                0               0               \n",
       "⋮   ⋮         ⋮              ⋮                ⋮               ⋮               \n",
       "395 11        10             0                0               0               \n",
       "396 11         7             0                0               0               \n",
       "397  9        11             0                0               0               \n",
       "    n_non_stop_unique_tokens num_hrefs num_self_hrefs num_imgs ⋯\n",
       "1   0                        0         0              0        ⋯\n",
       "2   0                        0         0              0        ⋯\n",
       "3   0                        0         0              0        ⋯\n",
       "⋮   ⋮                        ⋮         ⋮              ⋮        ⋱\n",
       "395 0                        0         0              10       ⋯\n",
       "396 0                        0         0              13       ⋯\n",
       "397 0                        0         0              21       ⋯\n",
       "    avg_negative_polarity min_negative_polarity max_negative_polarity\n",
       "1   0                     0                     0                    \n",
       "2   0                     0                     0                    \n",
       "3   0                     0                     0                    \n",
       "⋮   ⋮                     ⋮                     ⋮                    \n",
       "395 0                     0                     0                    \n",
       "396 0                     0                     0                    \n",
       "397 0                     0                     0                    \n",
       "    title_subjectivity title_sentiment_polarity abs_title_subjectivity\n",
       "1   0.00000000         0.00000000               0.5000000             \n",
       "2   0.00000000         0.00000000               0.5000000             \n",
       "3   0.06666667         0.03333333               0.4333333             \n",
       "⋮   ⋮                  ⋮                        ⋮                     \n",
       "395 0.5000000          0.5000000                0.00000000            \n",
       "396 0.0000000          0.0000000                0.50000000            \n",
       "397 0.4545455          0.1363636                0.04545455            \n",
       "    abs_title_sentiment_polarity shares data_channel_type        \n",
       "1   0.00000000                   1700   data_channel_is_lifestyle\n",
       "2   0.00000000                   4500   data_channel_is_tech     \n",
       "3   0.03333333                   6800   data_channel_is_bus      \n",
       "⋮   ⋮                            ⋮      ⋮                        \n",
       "395 0.5000000                    1800   data_channel_is_lifestyle\n",
       "396 0.0000000                    1600   data_channel_is_world    \n",
       "397 0.1363636                    5700   data_channel_is_world    \n",
       "    weekday_posted      \n",
       "1   weekday_is_wednesday\n",
       "2   weekday_is_friday   \n",
       "3   weekday_is_saturday \n",
       "⋮   ⋮                   \n",
       "395 weekday_is_sunday   \n",
       "396 weekday_is_sunday   \n",
       "397 weekday_is_tuesday  "
      ]
     },
     "metadata": {},
     "output_type": "display_data"
    }
   ],
   "source": [
    "missing <- news_training %>%\n",
    "    filter(global_rate_positive_words == 0 & global_rate_negative_words == 0) \n",
    "\n",
    "missing\n",
    "    \n",
    "# DESCRIPTION\n",
    "\n",
    "# This table corresponds to data containing missing values as both the rate of positive and negative words is said to be 0. \n",
    "# If only one of them is 0, it could be totally possible but for both to be 0 it indicates a lack of data most likely. \n",
    "# These will have to be removed from the training set when building the classifier."
   ]
  },
  {
   "cell_type": "code",
   "execution_count": 8,
   "metadata": {},
   "outputs": [
    {
     "name": "stderr",
     "output_type": "stream",
     "text": [
      "Joining, by = c(\"url\", \"timedelta\", \"n_tokens_title\", \"n_tokens_content\", \"n_unique_tokens\", \"n_non_stop_words\", \"n_non_stop_unique_tokens\", \"num_hrefs\", \"num_self_hrefs\", \"num_imgs\", \"num_videos\", \"average_token_length\", \"num_keywords\", \"kw_min_min\", \"kw_max_min\", \"kw_avg_min\", \"kw_min_max\", \"kw_max_max\", \"kw_avg_max\", \"kw_min_avg\", \"kw_max_avg\", \"kw_avg_avg\", \"self_reference_min_shares\", \"self_reference_max_shares\", \"self_reference_avg_sharess\", \"LDA_00\", \"LDA_01\", \"LDA_02\", \"LDA_03\", \"LDA_04\", \"global_subjectivity\", \"global_sentiment_polarity\", \"global_rate_positive_words\", \"global_rate_negative_words\", \"rate_positive_words\", \"rate_negative_words\", \"avg_positive_polarity\", \"min_positive_polarity\", \"max_positive_polarity\", \"avg_negative_polarity\", \"min_negative_polarity\", \"max_negative_polarity\", \"title_subjectivity\", \"title_sentiment_polarity\", \"abs_title_subjectivity\", \"abs_title_sentiment_polarity\", \"shares\", \"data_channel_type\", \"weekday_posted\")\n",
      "\n",
      "`summarise()` ungrouping output (override with `.groups` argument)\n",
      "\n",
      "`summarise()` ungrouping output (override with `.groups` argument)\n",
      "\n",
      "New names:\n",
      "* data_channel_type -> data_channel_type...1\n",
      "* data_channel_type -> data_channel_type...3\n",
      "\n"
     ]
    },
    {
     "data": {
      "text/html": [
       "<table>\n",
       "<caption>A tibble: 6 × 3</caption>\n",
       "<thead>\n",
       "\t<tr><th scope=col>data_channel_type</th><th scope=col>average_rate_positive_words</th><th scope=col>average_rate_negative_words</th></tr>\n",
       "\t<tr><th scope=col>&lt;fct&gt;</th><th scope=col>&lt;dbl&gt;</th><th scope=col>&lt;dbl&gt;</th></tr>\n",
       "</thead>\n",
       "<tbody>\n",
       "\t<tr><td>data_channel_is_entertainment</td><td>0.04163481</td><td>0.01951751</td></tr>\n",
       "\t<tr><td>data_channel_is_bus          </td><td>0.04327525</td><td>0.01468526</td></tr>\n",
       "\t<tr><td>data_channel_is_tech         </td><td>0.04316465</td><td>0.01448046</td></tr>\n",
       "\t<tr><td>data_channel_is_lifestyle    </td><td>0.04489091</td><td>0.01645284</td></tr>\n",
       "\t<tr><td>data_channel_is_world        </td><td>0.03223665</td><td>0.01754254</td></tr>\n",
       "\t<tr><td>data_channel_is_socmed       </td><td>0.04712154</td><td>0.01588141</td></tr>\n",
       "</tbody>\n",
       "</table>\n"
      ],
      "text/latex": [
       "A tibble: 6 × 3\n",
       "\\begin{tabular}{lll}\n",
       " data\\_channel\\_type & average\\_rate\\_positive\\_words & average\\_rate\\_negative\\_words\\\\\n",
       " <fct> & <dbl> & <dbl>\\\\\n",
       "\\hline\n",
       "\t data\\_channel\\_is\\_entertainment & 0.04163481 & 0.01951751\\\\\n",
       "\t data\\_channel\\_is\\_bus           & 0.04327525 & 0.01468526\\\\\n",
       "\t data\\_channel\\_is\\_tech          & 0.04316465 & 0.01448046\\\\\n",
       "\t data\\_channel\\_is\\_lifestyle     & 0.04489091 & 0.01645284\\\\\n",
       "\t data\\_channel\\_is\\_world         & 0.03223665 & 0.01754254\\\\\n",
       "\t data\\_channel\\_is\\_socmed        & 0.04712154 & 0.01588141\\\\\n",
       "\\end{tabular}\n"
      ],
      "text/markdown": [
       "\n",
       "A tibble: 6 × 3\n",
       "\n",
       "| data_channel_type &lt;fct&gt; | average_rate_positive_words &lt;dbl&gt; | average_rate_negative_words &lt;dbl&gt; |\n",
       "|---|---|---|\n",
       "| data_channel_is_entertainment | 0.04163481 | 0.01951751 |\n",
       "| data_channel_is_bus           | 0.04327525 | 0.01468526 |\n",
       "| data_channel_is_tech          | 0.04316465 | 0.01448046 |\n",
       "| data_channel_is_lifestyle     | 0.04489091 | 0.01645284 |\n",
       "| data_channel_is_world         | 0.03223665 | 0.01754254 |\n",
       "| data_channel_is_socmed        | 0.04712154 | 0.01588141 |\n",
       "\n"
      ],
      "text/plain": [
       "  data_channel_type             average_rate_positive_words\n",
       "1 data_channel_is_entertainment 0.04163481                 \n",
       "2 data_channel_is_bus           0.04327525                 \n",
       "3 data_channel_is_tech          0.04316465                 \n",
       "4 data_channel_is_lifestyle     0.04489091                 \n",
       "5 data_channel_is_world         0.03223665                 \n",
       "6 data_channel_is_socmed        0.04712154                 \n",
       "  average_rate_negative_words\n",
       "1 0.01951751                 \n",
       "2 0.01468526                 \n",
       "3 0.01448046                 \n",
       "4 0.01645284                 \n",
       "5 0.01754254                 \n",
       "6 0.01588141                 "
      ]
     },
     "metadata": {},
     "output_type": "display_data"
    },
    {
     "data": {
      "image/png": "[encoded data removed]",
      "text/plain": [
       "plot without title"
      ]
     },
     "metadata": {
      "image/png": {
       "height": 420,
       "width": 840
      }
     },
     "output_type": "display_data"
    }
   ],
   "source": [
    "# excluding the rows from above that have inconclusive data\n",
    "without_zeros <- news_training %>%\n",
    "    anti_join(missing)\n",
    "\n",
    "grouped_pos <- without_zeros %>%\n",
    "    group_by(data_channel_type) %>%\n",
    "    summarize(avg_pos = mean(global_rate_positive_words))\n",
    "grouped_neg <- without_zeros %>%\n",
    "    group_by(data_channel_type) %>%\n",
    "    summarize(avg_neg = mean(global_rate_negative_words))\n",
    "avg_together <- grouped_pos %>%\n",
    "    bind_cols(grouped_neg) %>%\n",
    "    select(-data_channel_type...3)\n",
    "colnames(avg_together) <- c('data_channel_type', 'average_rate_positive_words', 'average_rate_negative_words')\n",
    "avg_together\n",
    "\n",
    "options(repr.plot.width = 14, repr.plot.height=7)\n",
    "viz <- avg_together %>%\n",
    "    gather('key', 'value', -c(data_channel_type)) %>%\n",
    "    ggplot(aes(x=data_channel_type, y=value, group=key, fill=key)) +\n",
    "    geom_bar(stat='identity') +\n",
    "    coord_flip() +\n",
    "    labs(x='Data Channel Type', y='Average Global Rate of Occurence', fill='Legend') +\n",
    "    theme(text=element_text(size=15))\n",
    "viz\n",
    "\n",
    "# DESCRIPTION\n",
    "\n",
    "# This plot shows a distribution of the average rate of both positive and negative words within each data channel category. \n",
    "# This plot guides us in predicting how our classifier should behave in classifying different data channel types from their global rates \n",
    "# of positive and negative words by providing us the average relative proportions among each group."
   ]
  },
  {
   "cell_type": "markdown",
   "metadata": {},
   "source": [
    "## Methods"
   ]
  },
  {
   "cell_type": "markdown",
   "metadata": {},
   "source": [
    "- The purpose of the analysis is to predict the relationship between the global rate of positive and negative words in a news article, and the category the news channel belongs to.\n",
    "- We will use the K-nearest algorithm for classification to predict the data channel type using the global rate of positive and negative words as our two predictors.\n",
    "- These are good predictors as they are directly linked to the content of the articles, so it is interesting to see how these predictors differ among news articles pertaining to different topics (e.g. lifestyle versus business).\n",
    "- One way we will visualize the results is creating a scatter plot from our testing data with the global positive rate of words on the x-axis and the rate of negative words on the y-axis, with the points coloured by the data channel type."
   ]
  },
  {
   "cell_type": "markdown",
   "metadata": {},
   "source": [
    "## Expected Outcomes and Significance\n"
   ]
  },
  {
   "cell_type": "markdown",
   "metadata": {},
   "source": [
    "We anticipate that social media, entertainment, and political news would have the highest concentration of negative words, ranked respectively. Social media will have the lead due to the nature of the platform given the freedom and the lack of control. As for the positive words, we expect that tech news will be the outlier given the developments and marketing of technology in the news channels. For the rest, we believe there won’t be a disparity in the use of positive words and data points will be somewhat scattered across.\n",
    "\n",
    "These findings could indicate whether a certain type of news is suited for juveniles. Parents could block access to these articles especially for kids who are under 10. Additionally, the analysis could be used to improve automated journalism by identifying the concentration of words and their connotations; news that doesn’t require creative writing such as tech, finance, sports, and elections are good options.\n",
    "\n",
    "Some future questions that may arise could be how does the rate of positive or negative words in an article affect how the news is received by a specific demographic, and whether there is any difference in tolerance for readers of a specific news type compared to another.\n",
    "\n",
    "Word Count (500)"
   ]
  }
 ],
 "metadata": {
  "kernelspec": {
   "display_name": "R",
   "language": "R",
   "name": "ir"
  },
  "language_info": {
   "codemirror_mode": "r",
   "file_extension": ".r",
   "mimetype": "text/x-r-source",
   "name": "R",
   "pygments_lexer": "r",
   "version": "4.0.0"
  }
 },
 "nbformat": 4,
 "nbformat_minor": 4
}
